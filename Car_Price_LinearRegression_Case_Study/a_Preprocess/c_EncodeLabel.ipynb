{
 "cells": [
  {
   "cell_type": "markdown",
   "metadata": {},
   "source": [
    "# Lebel Encoder"
   ]
  },
  {
   "cell_type": "markdown",
   "metadata": {},
   "source": [
    "**Label Encoder:**\n",
    "Label Encoder is used to convert categorical labels into numerical values. Each unique category is assigned a unique integer. This encoding is suitable for ordinal data, where the categories have a meaningful order.\n",
    "\n",
    "**Example:**\n",
    "Suppose you have a dataset with a \"Size\" feature containing categories like \"Small,\" \"Medium,\" and \"Large.\" Using Label Encoding, you can map these categories to integers as follows:\n",
    "\n",
    "- Small: 0\n",
    "- Medium: 1\n",
    "- Large: 2\n",
    "\n",
    "So, the \"Size\" feature is transformed into numerical values, allowing machine learning algorithms to work with it.\n",
    "\n",
    "- Label Encoding is suitable for **ordinal** data"
   ]
  },
  {
   "cell_type": "code",
   "execution_count": 1,
   "metadata": {},
   "outputs": [],
   "source": [
    "# from sklearn.preprocessing import LabelEncoder\n",
    "\n",
    "# # Sample data with a categorical feature\n",
    "# data = ['cat', 'dog', 'fish', 'dog', 'cat']\n",
    "\n",
    "# # Initialize the LabelEncoder\n",
    "# label_encoder = LabelEncoder()\n",
    "\n",
    "# # Fit and transform the data\n",
    "# encoded_data = label_encoder.fit_transform(data)\n",
    "\n",
    "# # Display the original data and the encoded data\n",
    "# print(\"Original Data:\", data)\n",
    "# print(\"Encoded Data:\", encoded_data)"
   ]
  },
  {
   "cell_type": "markdown",
   "metadata": {},
   "source": [
    "# Ordinal Encoder"
   ]
  },
  {
   "cell_type": "markdown",
   "metadata": {},
   "source": [
    "**Ordinal Encoder:**\n",
    "Ordinal Encoder is used for ordinal data, just like Label Encoder, but it allows you to specify the order explicitly. This is useful when you have categorical data with an inherent order, and you want to control the mapping.\n",
    "\n",
    "**Example:**\n",
    "Consider an \"Education Level\" feature with categories \"High School,\" \"Bachelor's,\" \"Master's,\" and \"Ph.D.\" Using Ordinal Encoding, you can define the order and map these categories as follows:\n",
    "\n",
    "- High School: 0\n",
    "- Bachelor's: 1\n",
    "- Master's: 2\n",
    "- Ph.D.: 3\n",
    "\n",
    "In this case, you are explicitly specifying the order of the education levels.\n",
    "\n",
    "- Ordinal Encoding is suitable for **ordinal** data"
   ]
  },
  {
   "cell_type": "code",
   "execution_count": null,
   "metadata": {},
   "outputs": [],
   "source": [
    "# from sklearn.preprocessing import OrdinalEncoder\n",
    "\n",
    "# # Sample data with an ordered categorical feature\n",
    "# data = [['Cold'], ['Warm'], ['Hot'], ['Cold'], ['Hot']]\n",
    "\n",
    "# # Define the order of the categories\n",
    "# category_order = [['Cold', 'Warm', 'Hot']]\n",
    "\n",
    "# # Initialize the OrdinalEncoder with the category order\n",
    "# ordinal_encoder = OrdinalEncoder(categories=category_order)\n",
    "\n",
    "# # Fit and transform the data\n",
    "# encoded_data = ordinal_encoder.fit_transform(data)\n",
    "\n",
    "# # Display the original data and the encoded data\n",
    "# print(\"Original Data:\", data)\n",
    "# print(\"Encoded Data:\", encoded_data)"
   ]
  },
  {
   "cell_type": "markdown",
   "metadata": {},
   "source": [
    " # One-Hot Encoder"
   ]
  },
  {
   "cell_type": "markdown",
   "metadata": {},
   "source": [
    "**One-Hot Encoder:**\n",
    "One-hot encoding is used when there is no inherent order in the categories, and you want to create binary columns for each category. Each category is represented as a binary vector where only one element is \"1,\" and the rest are \"0.\"\n",
    "\n",
    "**Example:**\n",
    "Let's consider a \"Color\" feature with categories \"Red,\" \"Blue,\" and \"Green.\" Using One-Hot Encoding, you create three binary columns:\n",
    "\n",
    "- Red: [1, 0, 0]\n",
    "- Blue: [0, 1, 0]\n",
    "- Green: [0, 0, 1]\n",
    "\n",
    "Each row in your dataset is represented by a combination of these binary vectors, indicating the color of that data point.\n",
    "- One-hot encoding is typically used for **nominal** data without any inherent order."
   ]
  },
  {
   "cell_type": "code",
   "execution_count": null,
   "metadata": {},
   "outputs": [],
   "source": [
    "# from sklearn.preprocessing import OneHotEncoder\n",
    "# import numpy as np\n",
    "\n",
    "# # Sample data with a categorical feature\n",
    "# data = [['Red'], ['Blue'], ['Green'], ['Green'], ['Red']]\n",
    "\n",
    "# # Initialize the OneHotEncoder\n",
    "# one_hot_encoder = OneHotEncoder()\n",
    "\n",
    "# # Fit and transform the data\n",
    "# encoded_data = one_hot_encoder.fit_transform(data)\n",
    "\n",
    "# # Convert the sparse matrix to a dense array for better visualization\n",
    "# encoded_data_array = encoded_data.toarray()\n",
    "\n",
    "# # Display the original data and the encoded data\n",
    "# print(\"Original Data:\", data)\n",
    "# print(\"Encoded Data:\")\n",
    "# print(encoded_data_array)"
   ]
  },
  {
   "cell_type": "markdown",
   "metadata": {},
   "source": [
    "# Import Necessary libraries"
   ]
  },
  {
   "cell_type": "code",
   "execution_count": 1,
   "metadata": {},
   "outputs": [],
   "source": [
    "import pandas as pd"
   ]
  },
  {
   "cell_type": "code",
   "execution_count": 6,
   "metadata": {},
   "outputs": [],
   "source": [
    "df = pd.read_csv(\"../data/CleanData3.csv\", index_col = \"Unnamed: 0\" )"
   ]
  },
  {
   "cell_type": "code",
   "execution_count": 16,
   "metadata": {},
   "outputs": [
    {
     "data": {
      "text/html": [
       "<div>\n",
       "<style scoped>\n",
       "    .dataframe tbody tr th:only-of-type {\n",
       "        vertical-align: middle;\n",
       "    }\n",
       "\n",
       "    .dataframe tbody tr th {\n",
       "        vertical-align: top;\n",
       "    }\n",
       "\n",
       "    .dataframe thead th {\n",
       "        text-align: right;\n",
       "    }\n",
       "</style>\n",
       "<table border=\"1\" class=\"dataframe\">\n",
       "  <thead>\n",
       "    <tr style=\"text-align: right;\">\n",
       "      <th></th>\n",
       "      <th>fueltype</th>\n",
       "      <th>aspiration</th>\n",
       "      <th>doornumber</th>\n",
       "      <th>carbody</th>\n",
       "      <th>drivewheel</th>\n",
       "      <th>enginelocation</th>\n",
       "      <th>enginetype</th>\n",
       "      <th>cylindernumber</th>\n",
       "      <th>fuelsystem</th>\n",
       "    </tr>\n",
       "  </thead>\n",
       "  <tbody>\n",
       "    <tr>\n",
       "      <th>0</th>\n",
       "      <td>gas</td>\n",
       "      <td>std</td>\n",
       "      <td>two</td>\n",
       "      <td>convertible</td>\n",
       "      <td>rwd</td>\n",
       "      <td>front</td>\n",
       "      <td>dohc</td>\n",
       "      <td>four</td>\n",
       "      <td>mpfi</td>\n",
       "    </tr>\n",
       "    <tr>\n",
       "      <th>1</th>\n",
       "      <td>gas</td>\n",
       "      <td>std</td>\n",
       "      <td>two</td>\n",
       "      <td>convertible</td>\n",
       "      <td>rwd</td>\n",
       "      <td>front</td>\n",
       "      <td>dohc</td>\n",
       "      <td>four</td>\n",
       "      <td>mpfi</td>\n",
       "    </tr>\n",
       "    <tr>\n",
       "      <th>2</th>\n",
       "      <td>gas</td>\n",
       "      <td>std</td>\n",
       "      <td>two</td>\n",
       "      <td>hatchback</td>\n",
       "      <td>rwd</td>\n",
       "      <td>front</td>\n",
       "      <td>ohcv</td>\n",
       "      <td>six</td>\n",
       "      <td>mpfi</td>\n",
       "    </tr>\n",
       "    <tr>\n",
       "      <th>3</th>\n",
       "      <td>gas</td>\n",
       "      <td>std</td>\n",
       "      <td>four</td>\n",
       "      <td>sedan</td>\n",
       "      <td>fwd</td>\n",
       "      <td>front</td>\n",
       "      <td>ohc</td>\n",
       "      <td>four</td>\n",
       "      <td>mpfi</td>\n",
       "    </tr>\n",
       "    <tr>\n",
       "      <th>4</th>\n",
       "      <td>gas</td>\n",
       "      <td>std</td>\n",
       "      <td>four</td>\n",
       "      <td>sedan</td>\n",
       "      <td>4wd</td>\n",
       "      <td>front</td>\n",
       "      <td>ohc</td>\n",
       "      <td>five</td>\n",
       "      <td>mpfi</td>\n",
       "    </tr>\n",
       "    <tr>\n",
       "      <th>...</th>\n",
       "      <td>...</td>\n",
       "      <td>...</td>\n",
       "      <td>...</td>\n",
       "      <td>...</td>\n",
       "      <td>...</td>\n",
       "      <td>...</td>\n",
       "      <td>...</td>\n",
       "      <td>...</td>\n",
       "      <td>...</td>\n",
       "    </tr>\n",
       "    <tr>\n",
       "      <th>200</th>\n",
       "      <td>gas</td>\n",
       "      <td>std</td>\n",
       "      <td>four</td>\n",
       "      <td>sedan</td>\n",
       "      <td>rwd</td>\n",
       "      <td>front</td>\n",
       "      <td>ohc</td>\n",
       "      <td>four</td>\n",
       "      <td>mpfi</td>\n",
       "    </tr>\n",
       "    <tr>\n",
       "      <th>201</th>\n",
       "      <td>gas</td>\n",
       "      <td>turbo</td>\n",
       "      <td>four</td>\n",
       "      <td>sedan</td>\n",
       "      <td>rwd</td>\n",
       "      <td>front</td>\n",
       "      <td>ohc</td>\n",
       "      <td>four</td>\n",
       "      <td>mpfi</td>\n",
       "    </tr>\n",
       "    <tr>\n",
       "      <th>202</th>\n",
       "      <td>gas</td>\n",
       "      <td>std</td>\n",
       "      <td>four</td>\n",
       "      <td>sedan</td>\n",
       "      <td>rwd</td>\n",
       "      <td>front</td>\n",
       "      <td>ohcv</td>\n",
       "      <td>six</td>\n",
       "      <td>mpfi</td>\n",
       "    </tr>\n",
       "    <tr>\n",
       "      <th>203</th>\n",
       "      <td>diesel</td>\n",
       "      <td>turbo</td>\n",
       "      <td>four</td>\n",
       "      <td>sedan</td>\n",
       "      <td>rwd</td>\n",
       "      <td>front</td>\n",
       "      <td>ohc</td>\n",
       "      <td>six</td>\n",
       "      <td>idi</td>\n",
       "    </tr>\n",
       "    <tr>\n",
       "      <th>204</th>\n",
       "      <td>gas</td>\n",
       "      <td>turbo</td>\n",
       "      <td>four</td>\n",
       "      <td>sedan</td>\n",
       "      <td>rwd</td>\n",
       "      <td>front</td>\n",
       "      <td>ohc</td>\n",
       "      <td>four</td>\n",
       "      <td>mpfi</td>\n",
       "    </tr>\n",
       "  </tbody>\n",
       "</table>\n",
       "<p>205 rows × 9 columns</p>\n",
       "</div>"
      ],
      "text/plain": [
       "    fueltype aspiration doornumber      carbody drivewheel enginelocation  \\\n",
       "0        gas        std        two  convertible        rwd          front   \n",
       "1        gas        std        two  convertible        rwd          front   \n",
       "2        gas        std        two    hatchback        rwd          front   \n",
       "3        gas        std       four        sedan        fwd          front   \n",
       "4        gas        std       four        sedan        4wd          front   \n",
       "..       ...        ...        ...          ...        ...            ...   \n",
       "200      gas        std       four        sedan        rwd          front   \n",
       "201      gas      turbo       four        sedan        rwd          front   \n",
       "202      gas        std       four        sedan        rwd          front   \n",
       "203   diesel      turbo       four        sedan        rwd          front   \n",
       "204      gas      turbo       four        sedan        rwd          front   \n",
       "\n",
       "    enginetype cylindernumber fuelsystem  \n",
       "0         dohc           four       mpfi  \n",
       "1         dohc           four       mpfi  \n",
       "2         ohcv            six       mpfi  \n",
       "3          ohc           four       mpfi  \n",
       "4          ohc           five       mpfi  \n",
       "..         ...            ...        ...  \n",
       "200        ohc           four       mpfi  \n",
       "201        ohc           four       mpfi  \n",
       "202       ohcv            six       mpfi  \n",
       "203        ohc            six        idi  \n",
       "204        ohc           four       mpfi  \n",
       "\n",
       "[205 rows x 9 columns]"
      ]
     },
     "execution_count": 16,
     "metadata": {},
     "output_type": "execute_result"
    }
   ],
   "source": [
    "df_cat = df.select_dtypes(\"object\").drop(columns = \"CarName\")\n",
    "df_cat"
   ]
  },
  {
   "cell_type": "code",
   "execution_count": 17,
   "metadata": {},
   "outputs": [],
   "source": [
    "binary = []\n",
    "multiclass = []\n",
    "\n",
    "for col in df_cat.columns:\n",
    "    if len(df_cat[[col]].value_counts().index) > 2:\n",
    "        multiclass.append(col)\n",
    "    else:\n",
    "        binary.append(col)"
   ]
  },
  {
   "cell_type": "code",
   "execution_count": 23,
   "metadata": {},
   "outputs": [
    {
     "data": {
      "text/plain": [
       "['fueltype', 'aspiration', 'doornumber', 'enginelocation']"
      ]
     },
     "execution_count": 23,
     "metadata": {},
     "output_type": "execute_result"
    }
   ],
   "source": [
    "binary"
   ]
  },
  {
   "cell_type": "code",
   "execution_count": 19,
   "metadata": {},
   "outputs": [
    {
     "data": {
      "text/plain": [
       "['carbody', 'drivewheel', 'enginetype', 'cylindernumber', 'fuelsystem']"
      ]
     },
     "execution_count": 19,
     "metadata": {},
     "output_type": "execute_result"
    }
   ],
   "source": [
    "multiclass"
   ]
  },
  {
   "cell_type": "code",
   "execution_count": null,
   "metadata": {},
   "outputs": [],
   "source": []
  },
  {
   "cell_type": "code",
   "execution_count": null,
   "metadata": {},
   "outputs": [],
   "source": []
  }
 ],
 "metadata": {
  "kernelspec": {
   "display_name": "Python 3 (ipykernel)",
   "language": "python",
   "name": "python3"
  },
  "language_info": {
   "codemirror_mode": {
    "name": "ipython",
    "version": 3
   },
   "file_extension": ".py",
   "mimetype": "text/x-python",
   "name": "python",
   "nbconvert_exporter": "python",
   "pygments_lexer": "ipython3",
   "version": "3.12.0"
  }
 },
 "nbformat": 4,
 "nbformat_minor": 4
}
