{
 "cells": [
  {
   "cell_type": "markdown",
   "id": "da5df428-6d06-47eb-90f0-8864b2280b3c",
   "metadata": {},
   "source": [
    "3. <b>Experimentation Workflow:</b><br>\n",
    "    Here is a basic workflow for conducting model experiments using MLflow:<br>\n",
    "    -  <b>Import Libraries:</b><br>\n",
    "       Import the necessary libraries and MLflow."
   ]
  },
  {
   "cell_type": "code",
   "execution_count": 33,
   "id": "55b557b9-1708-4419-ad5c-6245afb1fb79",
   "metadata": {},
   "outputs": [],
   "source": [
    "import pandas as pd\n",
    "import numpy as np\n",
    "import mlflow\n",
    "import mlflow.sklearn\n",
    "\n",
    "from sklearn.model_selection import train_test_split\n",
    "from sklearn.metrics import mean_squared_error, mean_absolute_error, mean_absolute_percentage_error, r2_score\n",
    "from sklearn.metrics import accuracy_score, f1_score\n",
    "# plot_confusion_matrix,\n",
    "\n",
    "from sklearn.linear_model import LinearRegression\n",
    "from sklearn.neighbors import KNeighborsRegressor\n",
    "from sklearn.tree import DecisionTreeRegressor\n",
    "from sklearn.ensemble import RandomForestRegressor\n",
    "from sklearn.svm import SVR\n",
    "\n",
    "from sklearn.model_selection import GridSearchCV\n",
    "from sklearn.model_selection import RandomizedSearchCV\n",
    "from sklearn.model_selection import cross_val_score\n",
    "import argparse"
   ]
  },
  {
   "cell_type": "code",
   "execution_count": 34,
   "id": "3c90dbb8-0a7d-45e9-a4c8-c42032aa5e4a",
   "metadata": {},
   "outputs": [
    {
     "data": {
      "text/html": [
       "<div>\n",
       "<style scoped>\n",
       "    .dataframe tbody tr th:only-of-type {\n",
       "        vertical-align: middle;\n",
       "    }\n",
       "\n",
       "    .dataframe tbody tr th {\n",
       "        vertical-align: top;\n",
       "    }\n",
       "\n",
       "    .dataframe thead th {\n",
       "        text-align: right;\n",
       "    }\n",
       "</style>\n",
       "<table border=\"1\" class=\"dataframe\">\n",
       "  <thead>\n",
       "    <tr style=\"text-align: right;\">\n",
       "      <th></th>\n",
       "      <th>PC1</th>\n",
       "      <th>PC2</th>\n",
       "      <th>price</th>\n",
       "    </tr>\n",
       "  </thead>\n",
       "  <tbody>\n",
       "    <tr>\n",
       "      <th>0</th>\n",
       "      <td>-0.366039</td>\n",
       "      <td>0.476383</td>\n",
       "      <td>9279.0</td>\n",
       "    </tr>\n",
       "    <tr>\n",
       "      <th>1</th>\n",
       "      <td>4.970104</td>\n",
       "      <td>0.268790</td>\n",
       "      <td>22563.0</td>\n",
       "    </tr>\n",
       "    <tr>\n",
       "      <th>2</th>\n",
       "      <td>-0.786730</td>\n",
       "      <td>0.023457</td>\n",
       "      <td>9995.0</td>\n",
       "    </tr>\n",
       "    <tr>\n",
       "      <th>3</th>\n",
       "      <td>-0.441181</td>\n",
       "      <td>0.414536</td>\n",
       "      <td>11259.0</td>\n",
       "    </tr>\n",
       "    <tr>\n",
       "      <th>4</th>\n",
       "      <td>1.863872</td>\n",
       "      <td>0.750249</td>\n",
       "      <td>15750.0</td>\n",
       "    </tr>\n",
       "  </tbody>\n",
       "</table>\n",
       "</div>"
      ],
      "text/plain": [
       "        PC1       PC2    price\n",
       "0 -0.366039  0.476383   9279.0\n",
       "1  4.970104  0.268790  22563.0\n",
       "2 -0.786730  0.023457   9995.0\n",
       "3 -0.441181  0.414536  11259.0\n",
       "4  1.863872  0.750249  15750.0"
      ]
     },
     "execution_count": 34,
     "metadata": {},
     "output_type": "execute_result"
    }
   ],
   "source": [
    "# load data\n",
    "df = pd.read_csv(r\"../data/train_v6.csv\")\n",
    "df.head()"
   ]
  },
  {
   "cell_type": "code",
   "execution_count": 35,
   "id": "f61dab2a-3c93-43db-9a2d-9cc6b803d63c",
   "metadata": {},
   "outputs": [],
   "source": [
    "# splitig\n",
    "X = df.drop(columns= [\"price\",])\n",
    "y = df.price"
   ]
  },
  {
   "cell_type": "code",
   "execution_count": 36,
   "id": "dd0c853a-0ab9-471f-a3c6-32d0cd198845",
   "metadata": {},
   "outputs": [],
   "source": [
    "# Load and preprocess your data (X, y)\n",
    "X_train, X_test, y_train, y_test = train_test_split(X, y, test_size=0.2, random_state=33)"
   ]
  },
  {
   "cell_type": "markdown",
   "id": "4ceccfcb-51fb-46a8-9b15-afd6bb7df859",
   "metadata": {},
   "source": [
    "- **Experiment Tracking**:<br>\n",
    "  Start a new MLflow experiment to track your modeling efforts. You can create a new experiment or use an existing one."
   ]
  },
  {
   "cell_type": "code",
   "execution_count": 37,
   "id": "72f651f8-7992-48fc-87cf-1079078012a3",
   "metadata": {},
   "outputs": [
    {
     "name": "stderr",
     "output_type": "stream",
     "text": [
      "2023/11/07 15:28:47 INFO mlflow.tracking.fluent: Experiment with name 'PricingStartegy' does not exist. Creating a new experiment.\n"
     ]
    },
    {
     "data": {
      "text/plain": [
       "<Experiment: artifact_location='file:///C:/Users/SRA/Desktop/backup/C/MLgrit/Generative_Artificial_Intelligence/Car_Price_Strategy/Car_Price_LinearRegression_Case_Study/b_Model/Experimentation/code/mlruns/922765404485738083', creation_time=1699349327439, experiment_id='922765404485738083', last_update_time=1699349327439, lifecycle_stage='active', name='PricingStartegy', tags={}>"
      ]
     },
     "execution_count": 37,
     "metadata": {},
     "output_type": "execute_result"
    }
   ],
   "source": [
    "mlflow.set_experiment(\"PricingStartegy\")"
   ]
  },
  {
   "cell_type": "markdown",
   "id": "7e74f5f1-5c84-487e-9d40-fb27361edbe8",
   "metadata": {},
   "source": [
    "- **Model Training and Logging**:<br>\n",
    "    Train your regression model while logging relevant parameters and metrics."
   ]
  },
  {
   "cell_type": "markdown",
   "id": "76f48f2b-6fae-4ee4-b2bb-3d2580f8ec4e",
   "metadata": {},
   "source": [
    "# LinearRegression"
   ]
  },
  {
   "cell_type": "code",
   "execution_count": 56,
   "id": "39b3d9b4-ef9d-4689-a8b1-c712d8ebb4c0",
   "metadata": {},
   "outputs": [],
   "source": [
    "mlflow.set_experiment(\"LinearRegression\")\n",
    "\n",
    "with mlflow.start_run():\n",
    "    model = LinearRegression()\n",
    "\n",
    "    param_grid = {\n",
    "        \"fit_intercept\": [True],\n",
    "        \"copy_X\": [True],\n",
    "        \"n_jobs\": [None],\n",
    "        \"positive\": [False],\n",
    "    }\n",
    "    \n",
    "# GridSearchCV Each combination will try.\n",
    "# RandomizedSearchCV Some random combination will try and we use it for huge data processing.\n",
    "    # This all process call tuning and optimization\n",
    "    grid = GridSearchCV(\n",
    "        model,\n",
    "        param_grid=param_grid,\n",
    "        scoring=\"neg_mean_squared_error\", \n",
    "        cv=5  # Number of cross-validation folds\n",
    "    )\n",
    "    grid.fit(X_train, y_train)\n",
    "    \n",
    "    # Log parameters\n",
    "    mlflow.log_params(grid.best_params_)\n",
    "    \n",
    "    # Predict on the test set using the best estimator from the grid search\n",
    "    y_pred = grid.best_estimator_.predict(X_test)\n",
    "\n",
    "    # Calculate and log the evaluation metrics (e.g., RMSE, MAE, MAPE, R2)\n",
    "    rmse = mean_squared_error(y_test, y_pred, squared=False)\n",
    "    mae = mean_absolute_error(y_test, y_pred)\n",
    "    mape = mean_absolute_percentage_error(y_test, y_pred)\n",
    "    r2 = r2_score(y_test, y_pred)\n",
    "    \n",
    "    mlflow.log_metrics({\n",
    "        \"RMSE\": rmse,\n",
    "        \"MAE\": mae,\n",
    "        \"MAPE\": mape,  # Use \"MAPE\" instead of \"MAPE0\"\n",
    "        \"R2_SCORE\": r2\n",
    "    })\n",
    "\n",
    "    # Log the best model using MLflow\n",
    "    mlflow.sklearn.log_model(grid.best_estimator_, \"LinearRegression\")\n"
   ]
  },
  {
   "cell_type": "code",
   "execution_count": 42,
   "id": "82cc60dc-a722-4086-a06d-9307c44ec6a7",
   "metadata": {},
   "outputs": [],
   "source": [
    "# LinearRegression?"
   ]
  },
  {
   "cell_type": "markdown",
   "id": "1dd3891a-dd90-4eb7-9fbe-01ff75424fe5",
   "metadata": {},
   "source": [
    "# KNeighborsRegressor"
   ]
  },
  {
   "cell_type": "code",
   "execution_count": 59,
   "id": "67bee76d-a449-487c-8441-0950da7be449",
   "metadata": {},
   "outputs": [],
   "source": [
    "mlflow.set_experiment(\"KNeighborsRegressor\")\n",
    "\n",
    "with mlflow.start_run():\n",
    "    model = KNeighborsRegressor() \n",
    "\n",
    "    param_distributions = {\n",
    "        \"n_neighbors\" : [3],\n",
    "        \"weights\": ['uniform', 'distance'], # uniform gives equal or same priority for each vote, distance gives more priority for the closer vote.   \n",
    "        \"algorithm\": ['auto'],\n",
    "        \"leaf_size\": [30],\n",
    "        \"p\": [2],\n",
    "        \"metric\": ['minkowski'],\n",
    "        \"metric_params\": [None],\n",
    "        \"n_jobs\": [None],\n",
    "    }\n",
    "# GridSearchCV Each combination will try.\n",
    "# RandomizedSearchCV some random combination will try and we use it for huge data processing.\n",
    "    grid = RandomizedSearchCV(\n",
    "        model,\n",
    "        param_distributions = param_distributions,\n",
    "        scoring=\"neg_mean_squared_error\", \n",
    "        cv=5  # Number of cross-validation folds\n",
    "    )\n",
    "    grid.fit(X_train, y_train)\n",
    "    \n",
    "    # Log parameters\n",
    "    mlflow.log_params(grid.best_params_)\n",
    "    \n",
    "    # Predict on the test set using the best estimator from the grid search\n",
    "    y_pred = grid.best_estimator_.predict(X_test)\n",
    "    \n",
    "    b_score = grid.best_score_\n",
    "    print(b_score)\n",
    "\n",
    "    # Calculate and log the evaluation metric (e.g., RMSE)\n",
    "    rmse = mean_squared_error(y_test, y_pred, squared=False)\n",
    "    mae = mean_absolute_error(y_test, y_pred)\n",
    "    mape = mean_absolute_percentage_error(y_test, y_pred)\n",
    "    r2 = r2_score(y_test, y_pred)\n",
    "    \n",
    "    mlflow.log_metrics({\n",
    "        \"RMSE\": rmse,\n",
    "        \"MAE\": mae,\n",
    "        \"MAPE0\": mape,\n",
    "        \"R2_SCORE\": r2\n",
    "    })\n",
    "    \n",
    "    # Log the best model using MLflow\n",
    "    mlflow.sklearn.log_model(model, 'knn')\n"
   ]
  },
  {
   "cell_type": "code",
   "execution_count": 44,
   "id": "44fd6c4b-4d92-49a4-94de-b6830d0b50aa",
   "metadata": {},
   "outputs": [],
   "source": [
    "# KNeighborsRegressor?"
   ]
  },
  {
   "cell_type": "markdown",
   "id": "a9dc045a-ef3c-412d-970c-c4a183c6ad93",
   "metadata": {},
   "source": [
    "# Decision Tree Regression"
   ]
  },
  {
   "cell_type": "code",
   "execution_count": 55,
   "id": "296c88fd-5d30-4c3c-ab60-0a0c0aacc99d",
   "metadata": {},
   "outputs": [],
   "source": [
    "mlflow.set_experiment(\"DecisionTreeRegressor\")\n",
    "\n",
    "with mlflow.start_run():\n",
    "    model = DecisionTreeRegressor() \n",
    "\n",
    "    param_distributions = {\n",
    "        \"criterion\": [\"squared_error\", \"friedman_mse\", \"absolute_error\"],\n",
    "        \"splitter\": [\"best\", \"random\"],\n",
    "        \"max_depth\": [None],\n",
    "        \"min_samples_split\": [2],\n",
    "        \"min_samples_leaf\": [1],\n",
    "        \"min_weight_fraction_leaf\": [0.0],\n",
    "        \"max_features\": [None, \"auto\", \"sqrt\", \"log2\"],\n",
    "        \"random_state\": [None],\n",
    "        \"max_leaf_nodes\": [None],\n",
    "        \"min_impurity_decrease\": [0.0],\n",
    "        \"ccp_alpha\": [0.0],\n",
    "    }\n",
    "# GridSearchCV Each combination will try.\n",
    "# RandomizedSearchCV some random combination will try and we use it for huge data processing.\n",
    "    grid = RandomizedSearchCV(\n",
    "        model,\n",
    "        param_distributions = param_distributions,\n",
    "        scoring=\"neg_mean_squared_error\", \n",
    "        cv=5  # Number of cross-validation folds\n",
    "    )\n",
    "    grid.fit(X_train, y_train)\n",
    "    \n",
    "    # Log parameters\n",
    "    mlflow.log_params(grid.best_params_)\n",
    "    \n",
    "    # Predict on the test set using the best estimator from the grid search\n",
    "    y_pred = grid.best_estimator_.predict(X_test)\n",
    "    \n",
    "    b_score = grid.best_score_\n",
    "    print(b_score)\n",
    "\n",
    "    # Calculate and log the evaluation metric (e.g., RMSE)\n",
    "    rmse = mean_squared_error(y_test, y_pred, squared=False)\n",
    "    mae = mean_absolute_error(y_test, y_pred)\n",
    "    mape = mean_absolute_percentage_error(y_test, y_pred)\n",
    "    r2 = r2_score(y_test, y_pred)\n",
    "    \n",
    "    mlflow.log_metrics({\n",
    "        \"RMSE\": rmse,\n",
    "        \"MAE\": mae,\n",
    "        \"MAPE0\": mape,\n",
    "        \"R2_SCORE\": r2\n",
    "    })\n",
    "    \n",
    "    # Log the best model using MLflow\n",
    "    mlflow.sklearn.log_model(model, 'DecisionTreeRegressor')"
   ]
  },
  {
   "cell_type": "code",
   "execution_count": 54,
   "id": "6d2f02b1-cc0d-4665-a863-85413978db24",
   "metadata": {},
   "outputs": [],
   "source": [
    "# DecisionTreeRegressor?"
   ]
  },
  {
   "cell_type": "markdown",
   "id": "5e4f8bd5-205d-48cc-9372-e2e1fb515699",
   "metadata": {},
   "source": [
    "# RandomForest"
   ]
  },
  {
   "cell_type": "code",
   "execution_count": 57,
   "id": "5d599c39-2501-4f59-a1aa-6aeb8c5188a0",
   "metadata": {},
   "outputs": [],
   "source": [
    "mlflow.set_experiment(\"RandomForestRegressor\")\n",
    "\n",
    "with mlflow.start_run():\n",
    "    model = RandomForestRegressor()  # Replace with your regression model\n",
    "\n",
    "    param_distributions = {\n",
    "        \"n_estimators\": [64,100,200,300],\n",
    "        \"criterion\": ['squared_error'],\n",
    "        \"max_depth\": [None],\n",
    "        \"min_samples_split\": [2],\n",
    "        \"min_samples_leaf\": [1],\n",
    "        \"min_weight_fraction_leaf\": [0.0],\n",
    "        \"max_features\": [1.0],\n",
    "        \"max_leaf_nodes\": [None],\n",
    "        \"min_impurity_decrease\": [0.0],\n",
    "        \"bootstrap\": [True],\n",
    "        \"oob_score\": [False],\n",
    "        \"n_jobs\": [None],\n",
    "        \"random_state\": [None],\n",
    "        \"verbose\": [0],\n",
    "        \"warm_start\": [False],\n",
    "        \"ccp_alpha\": [0.0],\n",
    "        \"max_samples\": [None],\n",
    "    }\n",
    "\n",
    "# GridSearchCV Each combination will try.\n",
    "# RandomizedSearchCV some random combination will try and we use it for huge data processing.\n",
    "    grid = RandomizedSearchCV(\n",
    "        model,\n",
    "        param_distributions = param_distributions,\n",
    "        scoring=\"neg_mean_squared_error\", \n",
    "        cv=5  # Number of cross-validation folds\n",
    "    )\n",
    "    grid.fit(X_train, y_train)\n",
    "    \n",
    "    # Log parameters\n",
    "    mlflow.log_params(grid.best_params_)\n",
    "    \n",
    "    # Predict on the test set using the best estimator from the grid search\n",
    "    y_pred = grid.best_estimator_.predict(X_test)\n",
    "\n",
    "    b_score = grid.best_score_\n",
    "    print(b_score)\n",
    "    \n",
    "    # Calculate and log the evaluation metric (e.g., RMSE)\n",
    "    rmse = mean_squared_error(y_test, y_pred, squared=False)\n",
    "    mae = mean_absolute_error(y_test, y_pred)\n",
    "    mape = mean_absolute_percentage_error(y_test, y_pred)\n",
    "    r2 = r2_score(y_test, y_pred)\n",
    "    \n",
    "    mlflow.log_metrics({\n",
    "        \"RMSE\": rmse,\n",
    "        \"MAE\": mae,\n",
    "        \"MAPE0\": mape,\n",
    "        \"R2_SCORE\": r2\n",
    "    })\n",
    "    \n",
    "    # Log the best model using MLflow\n",
    "    mlflow.sklearn.log_model(model, 'random_forest')\n"
   ]
  },
  {
   "cell_type": "code",
   "execution_count": 18,
   "id": "e98775bd-fd6e-4008-b475-faebdb17476d",
   "metadata": {},
   "outputs": [],
   "source": [
    "# RandomForestRegressor?"
   ]
  },
  {
   "cell_type": "markdown",
   "id": "9cf4db75-c77b-46e1-a5fc-a9d466b6784b",
   "metadata": {},
   "source": [
    "# Support Vector Regression (SVR)"
   ]
  },
  {
   "cell_type": "code",
   "execution_count": 58,
   "id": "21a1c15b-47bc-4fc6-990a-f12826c08a7f",
   "metadata": {},
   "outputs": [],
   "source": [
    "mlflow.set_experiment(\"SVR\")\n",
    "\n",
    "with mlflow.start_run():\n",
    "    model = SVR()  # Replace with your regression model\n",
    "\n",
    "    param_distributions = {\n",
    "        \"kernel\": ['linear', 'poly', 'rbf', 'sigmoid'],\n",
    "        \"degree\": [3, 5, 6, 7, 8],\n",
    "        \"gamma\": ['scale', 'auto'],\n",
    "        \"coef0\": [0.0],\n",
    "        \"tol\": [0.001],\n",
    "        \"C\": [1.0],\n",
    "        \"epsilon\": [0.1],\n",
    "        \"shrinking\": [True],\n",
    "        \"cache_size\": [200],\n",
    "        \"verbose\": [False],\n",
    "        \"max_iter\": [-1],\n",
    "    }\n",
    "\n",
    "# GridSearchCV Each combination will try.\n",
    "# RandomizedSearchCV some random combination will try and we use it for huge data processing.\n",
    "    grid = RandomizedSearchCV(\n",
    "        model,\n",
    "        param_distributions=param_distributions,\n",
    "        scoring=\"accuracy\", \n",
    "        cv=5  # Number of cross-validation folds\n",
    "    )\n",
    "    grid.fit(X_train, y_train)\n",
    "    \n",
    "    # Log parameters\n",
    "    mlflow.log_params(grid.best_params_)\n",
    "    \n",
    "    # Predict on the test set using the best estimator from the grid search\n",
    "    y_pred = grid.best_estimator_.predict(X_test)\n",
    "\n",
    "    b_score = grid.best_score_\n",
    "    print(b_score)\n",
    "    \n",
    "    # Calculate and log the evaluation metric (e.g., RMSE)\n",
    "    rmse = mean_squared_error(y_test, y_pred, squared=False)\n",
    "    mae = mean_absolute_error(y_test, y_pred)\n",
    "    mape = mean_absolute_percentage_error(y_test, y_pred)\n",
    "    r2 = r2_score(y_test, y_pred)\n",
    "    \n",
    "    mlflow.log_metrics({\n",
    "        \"RMSE\": rmse,\n",
    "        \"MAE\": mae,\n",
    "        \"MAPE0\": mape,\n",
    "        \"R2_SCORE\": r2\n",
    "    })\n",
    "    \n",
    "    # Log the best model using MLflow\n",
    "    mlflow.sklearn.log_model(model, 'random_forest')"
   ]
  },
  {
   "cell_type": "code",
   "execution_count": 55,
   "id": "94f5666b-53b5-4f55-94cb-3b48060c2700",
   "metadata": {},
   "outputs": [],
   "source": [
    "# SVR?"
   ]
  },
  {
   "cell_type": "markdown",
   "id": "2fcc146f-bda5-4469-ab0d-d62531fc7789",
   "metadata": {},
   "source": []
  }
 ],
 "metadata": {
  "kernelspec": {
   "display_name": "Python 3 (ipykernel)",
   "language": "python",
   "name": "python3"
  },
  "language_info": {
   "codemirror_mode": {
    "name": "ipython",
    "version": 3
   },
   "file_extension": ".py",
   "mimetype": "text/x-python",
   "name": "python",
   "nbconvert_exporter": "python",
   "pygments_lexer": "ipython3",
   "version": "3.10.6"
  }
 },
 "nbformat": 4,
 "nbformat_minor": 5
}
