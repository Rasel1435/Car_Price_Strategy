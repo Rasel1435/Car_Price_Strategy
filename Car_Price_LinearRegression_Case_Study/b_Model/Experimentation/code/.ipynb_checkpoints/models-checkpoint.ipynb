{
 "cells": [
  {
   "cell_type": "markdown",
   "id": "da5df428-6d06-47eb-90f0-8864b2280b3c",
   "metadata": {},
   "source": [
    "3. <b>Experimentation Workflow:</b><br>\n",
    "    Here is a basic workflow for conducting model experiments using MLflow:<br>\n",
    "    -  <b>Import Libraries:</b><br>\n",
    "       Import the necessary libraries and MLflow."
   ]
  },
  {
   "cell_type": "code",
   "execution_count": 1,
   "id": "55b557b9-1708-4419-ad5c-6245afb1fb79",
   "metadata": {},
   "outputs": [],
   "source": [
    "import mlflow\n",
    "import mlflow.sklearn\n",
    "from sklearn.model_selection import train_test_split\n",
    "from sklearn.metrics import mean_squared_error, mean_absolute_error, mean_absolute_percentage_error, r2_score\n",
    "import pandas as pd\n",
    "from sklearn.ensemble import RandomForestRegressor"
   ]
  },
  {
   "cell_type": "code",
   "execution_count": null,
   "id": "3c90dbb8-0a7d-45e9-a4c8-c42032aa5e4a",
   "metadata": {},
   "outputs": [],
   "source": [
    "# load data"
   ]
  }
 ],
 "metadata": {
  "kernelspec": {
   "display_name": "Python 3 (ipykernel)",
   "language": "python",
   "name": "python3"
  },
  "language_info": {
   "codemirror_mode": {
    "name": "ipython",
    "version": 3
   },
   "file_extension": ".py",
   "mimetype": "text/x-python",
   "name": "python",
   "nbconvert_exporter": "python",
   "pygments_lexer": "ipython3",
   "version": "3.10.6"
  }
 },
 "nbformat": 4,
 "nbformat_minor": 5
}
