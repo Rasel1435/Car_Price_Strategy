{
 "cells": [
  {
   "cell_type": "markdown",
   "id": "57f7ab7d-2606-4a39-a5a1-b6308e75e6a2",
   "metadata": {},
   "source": [
    "# Experimentation"
   ]
  },
  {
   "cell_type": "markdown",
   "id": "72b31ccc-6447-42d6-a039-af2b5a9e118e",
   "metadata": {},
   "source": [
    "MLflow is an open-source platform that helps manage the end-to-end machine learning lifecycle, including experimentation, reproducibility, and deployment. To perform model experimentation with MLflow for regression tasks in Python, you can follow these steps:"
   ]
  },
  {
   "cell_type": "markdown",
   "id": "47e57c11-990a-432c-9d44-2a262799a1d6",
   "metadata": {},
   "source": [
    "1. <b>Install MLflow:</b><br>\n",
    "    First, make sure you have MLflow installed. You can install it using pip:\n"
   ]
  },
  {
   "cell_type": "code",
   "execution_count": null,
   "id": "a43af07c-76c7-44e1-a4f7-c59175084001",
   "metadata": {},
   "outputs": [],
   "source": [
    "# pip install mlflow"
   ]
  },
  {
   "cell_type": "markdown",
   "id": "f1d57ced-12e6-4978-8580-adabb1d310b1",
   "metadata": {},
   "source": [
    "2. <b>Set Up Your Project:</b><br>\n",
    "    Organize your project directory with a clear structure. For example:ks/\r\n",
    "\n"
   ]
  },
  {
   "cell_type": "code",
   "execution_count": 2,
   "id": "ef7fdb61-d337-4c38-833f-83288a4e171c",
   "metadata": {},
   "outputs": [],
   "source": [
    "# ├── project_directory/\n",
    "#     ├── data/\n",
    "#     ├── code/\n",
    "#     ├── notebooks/\n"
   ]
  },
  {
   "cell_type": "markdown",
   "id": "9c9e97a3-b4d7-46e4-967a-ebc106f86cca",
   "metadata": {},
   "source": [
    "Save your data in the `data/` folder and your Python code in the `code/` folder."
   ]
  },
  {
   "cell_type": "markdown",
   "id": "7508dfe0-4af4-4679-98a3-dcc7e6d30be2",
   "metadata": {},
   "source": [
    "3. <b>Experimentation Workflow:</b><br>\n",
    "    Here is a basic workflow for conducting model experiments using MLflow:<br>\n",
    "    -  <b>Import Libraries:</b><br>\n",
    "       Import the necessary libraries and MLflow."
   ]
  },
  {
   "cell_type": "code",
   "execution_count": 5,
   "id": "f56b23cf-c99e-4acd-a50f-1cc3d67c36b4",
   "metadata": {},
   "outputs": [
    {
     "ename": "ModuleNotFoundError",
     "evalue": "No module named 'mlflow'",
     "output_type": "error",
     "traceback": [
      "\u001b[1;31m---------------------------------------------------------------------------\u001b[0m",
      "\u001b[1;31mModuleNotFoundError\u001b[0m                       Traceback (most recent call last)",
      "Cell \u001b[1;32mIn[5], line 1\u001b[0m\n\u001b[1;32m----> 1\u001b[0m \u001b[38;5;28;01mimport\u001b[39;00m \u001b[38;5;21;01mmlflow\u001b[39;00m\n\u001b[0;32m      2\u001b[0m \u001b[38;5;28;01mimport\u001b[39;00m \u001b[38;5;21;01mmlflow\u001b[39;00m\u001b[38;5;21;01m.\u001b[39;00m\u001b[38;5;21;01msklearn\u001b[39;00m\n\u001b[0;32m      3\u001b[0m \u001b[38;5;28;01mfrom\u001b[39;00m \u001b[38;5;21;01msklearn\u001b[39;00m\u001b[38;5;21;01m.\u001b[39;00m\u001b[38;5;21;01mmodel_selection\u001b[39;00m \u001b[38;5;28;01mimport\u001b[39;00m train_test_split\n",
      "\u001b[1;31mModuleNotFoundError\u001b[0m: No module named 'mlflow'"
     ]
    }
   ],
   "source": [
    "import mlflow\n",
    "import mlflow.sklearn\n",
    "from sklearn.model_selection import train_test_split\n",
    "from sklearn.metrics import mean_squared_error"
   ]
  },
  {
   "cell_type": "markdown",
   "id": "868ab577-6733-4121-a9d2-b913e0947d96",
   "metadata": {},
   "source": [
    "- <b>Data Loading and Preprocessing:</b><br>\n",
    "    Load and preprocess your data. Split it into training and testing sets.\r\n"
   ]
  },
  {
   "cell_type": "code",
   "execution_count": null,
   "id": "25dc5369-8eec-4ab8-8475-79e78a24f0e9",
   "metadata": {},
   "outputs": [],
   "source": [
    "# Load and preprocess your data (X, y)\n",
    "X_train, X_test, y_train, y_test = train_test_split(X, y, test_size=0.2, random_state=42)"
   ]
  },
  {
   "cell_type": "markdown",
   "id": "0cb15200-131d-4db3-a465-238bd97fc97a",
   "metadata": {},
   "source": [
    "- **Experiment Tracking**:<br>\n",
    "  Start a new MLflow experiment to track your modeling efforts. You can create a new experiment or use an existing one."
   ]
  },
  {
   "cell_type": "code",
   "execution_count": null,
   "id": "169a9369-d4b0-4ecb-82fd-5de4c06c4de2",
   "metadata": {},
   "outputs": [],
   "source": [
    "mlflow.set_experiment(\"Regression Experiment\")"
   ]
  },
  {
   "cell_type": "markdown",
   "id": "d4ea205d-af4e-4b57-9596-277b206b8203",
   "metadata": {},
   "source": [
    "- **Model Training and Logging**:<br>\n",
    "    Train your regression model while logging relevant parameters and metrics."
   ]
  },
  {
   "cell_type": "code",
   "execution_count": null,
   "id": "872b4d07-2dc7-46f4-a722-229614cf0600",
   "metadata": {},
   "outputs": [],
   "source": [
    "with mlflow.start_run():\n",
    "    model = YourRegressionModel()  # Replace with your regression model\n",
    "    model.fit(X_train, y_train)\n",
    "\n",
    "    # Log parameters\n",
    "    mlflow.log_params({\n",
    "        \"model_name\": \"Your Model\",\n",
    "        \"hyperparameter1\": value1,\n",
    "        \"hyperparameter2\": value2,\n",
    "    })\n",
    "\n",
    "    # Predict on the test set\n",
    "    y_pred = model.predict(X_test)\n",
    "\n",
    "    # Calculate and log the evaluation metric (e.g., RMSE)\n",
    "    rmse = mean_squared_error(y_test, y_pred, squared=False)\n",
    "    mlflow.log_metric(\"RMSE\", rmse)\n"
   ]
  },
  {
   "cell_type": "markdown",
   "id": "b3ab2a46-1b98-4db1-b260-2b85a382ba88",
   "metadata": {},
   "source": [
    "- **Model Serialization**:<br>\n",
    "    Serialize your trained model so it can be loaded and used in the future."
   ]
  },
  {
   "cell_type": "code",
   "execution_count": null,
   "id": "5a829f3d-395f-4774-859f-1209c358b20b",
   "metadata": {},
   "outputs": [],
   "source": [
    "mlflow.sklearn.save_model(model, \"model\")"
   ]
  },
  {
   "cell_type": "markdown",
   "id": "cf405433-381d-4ebd-b49f-9b140cf5f38e",
   "metadata": {},
   "source": [
    "- **Experiment Review**:<br>\n",
    "    You can view and compare your experiments using the MLflow UI by running:"
   ]
  },
  {
   "cell_type": "code",
   "execution_count": null,
   "id": "e0a72a0c-f2b2-41ec-9880-884525181d7d",
   "metadata": {},
   "outputs": [],
   "source": [
    "mlflow ui"
   ]
  },
  {
   "cell_type": "markdown",
   "id": "798b8df5-9bc6-4db1-8056-315cd05ba823",
   "metadata": {},
   "source": [
    "- **Loading Models**:<br>\n",
    "    To load a saved model, you can use the `mlflow.sklearn.load_model` function."
   ]
  },
  {
   "cell_type": "code",
   "execution_count": null,
   "id": "e13b61c1-5a56-4902-afd6-06f7620a6eb1",
   "metadata": {},
   "outputs": [],
   "source": [
    "loaded_model = mlflow.sklearn.load_model(\"model\")"
   ]
  },
  {
   "cell_type": "markdown",
   "id": "2e2b8d7e-2240-453a-8ca6-9f28b89fbf02",
   "metadata": {},
   "source": [
    "4. **Additional Experimentation**:<br>\n",
    "    Continue iterating on your model by adjusting hyperparameters, trying different algorithms, and logging multiple runs within the same experiment to compare performance.<br>\n",
    "This is a basic example of how to use MLflow for regression model experimentation. MLflow's tracking functionality allows you to organize and compare different runs and models easily. It also makes it possible to reproduce and deploy models consistently."
   ]
  },
  {
   "cell_type": "code",
   "execution_count": null,
   "id": "8204f2de-ec22-4a1c-8052-7ef5df6143fe",
   "metadata": {},
   "outputs": [],
   "source": []
  },
  {
   "cell_type": "code",
   "execution_count": null,
   "id": "04453451-d1ff-4892-aa5e-d4a26d2edd6e",
   "metadata": {},
   "outputs": [],
   "source": []
  }
 ],
 "metadata": {
  "kernelspec": {
   "display_name": "Python 3 (ipykernel)",
   "language": "python",
   "name": "python3"
  },
  "language_info": {
   "codemirror_mode": {
    "name": "ipython",
    "version": 3
   },
   "file_extension": ".py",
   "mimetype": "text/x-python",
   "name": "python",
   "nbconvert_exporter": "python",
   "pygments_lexer": "ipython3",
   "version": "3.12.0"
  }
 },
 "nbformat": 4,
 "nbformat_minor": 5
}
