{
 "cells": [
  {
   "cell_type": "markdown",
   "id": "759dde51",
   "metadata": {},
   "source": [
    "# Experimentation"
   ]
  },
  {
   "cell_type": "markdown",
   "id": "0f73610b",
   "metadata": {},
   "source": [
    "MLflow is an open-source platform that helps manage the end-to-end machine learning lifecycle, including experimentation, reproducibility, and deployment. To perform model experimentation with MLflow for regression tasks in Python, you can follow these steps:"
   ]
  },
  {
   "cell_type": "markdown",
   "id": "f40a7e10",
   "metadata": {},
   "source": [
    "1. <b>Install MLflow:</b><br>\n",
    "    First, make sure you have MLflow installed. You can install it using pip:\n"
   ]
  },
  {
   "cell_type": "code",
   "execution_count": 23,
   "id": "cb558fc0",
   "metadata": {},
   "outputs": [],
   "source": [
    "# ! pip install mlflow"
   ]
  },
  {
   "cell_type": "markdown",
   "id": "3df2e7da",
   "metadata": {},
   "source": [
    "2. <b>Set Up Your Project:</b><br>\n",
    "    Organize your project directory with a clear structure. For example:ks/\n",
    "\n"
   ]
  },
  {
   "cell_type": "code",
   "execution_count": 2,
   "id": "16ab8404",
   "metadata": {},
   "outputs": [],
   "source": [
    "# ├── project_directory/\n",
    "#     ├── data/\n",
    "#     ├── code/\n",
    "#     ├── notebooks/\n"
   ]
  },
  {
   "cell_type": "markdown",
   "id": "3491ed5d",
   "metadata": {},
   "source": [
    "Save your data in the `data/` folder and your Python code in the `code/` folder."
   ]
  },
  {
   "cell_type": "markdown",
   "id": "2e86a088",
   "metadata": {},
   "source": [
    "3. <b>Experimentation Workflow:</b><br>\n",
    "    Here is a basic workflow for conducting model experiments using MLflow:<br>\n",
    "    -  <b>Import Libraries:</b><br>\n",
    "       Import the necessary libraries and MLflow."
   ]
  },
  {
   "cell_type": "code",
   "execution_count": 1,
   "id": "ee76e925",
   "metadata": {},
   "outputs": [],
   "source": [
    "# import mlflow\n",
    "# import mlflow.sklearn\n",
    "from sklearn.model_selection import train_test_split\n",
    "from sklearn.metrics import mean_squared_error, mean_absolute_error, mean_absolute_percentage_error, r2_score\n",
    "import pandas as pd\n",
    "from sklearn.ensemble import RandomForestRegressor"
   ]
  },
  {
   "cell_type": "markdown",
   "id": "24504d65",
   "metadata": {},
   "source": [
    "- <b>Data Loading and Preprocessing:</b><br>\n",
    "    Load and preprocess your data. Split it into training and testing sets.\n"
   ]
  },
  {
   "cell_type": "code",
   "execution_count": null,
   "id": "68b83d6e",
   "metadata": {},
   "outputs": [],
   "source": [
    "# Load and preprocess your data (X, y)\n",
    "X_train, X_test, y_train, y_test = train_test_split(X, y, test_size=0.2, random_state=42)"
   ]
  },
  {
   "cell_type": "markdown",
   "id": "0fd1e963",
   "metadata": {},
   "source": [
    "- **Experiment Tracking**:<br>\n",
    "  Start a new MLflow experiment to track your modeling efforts. You can create a new experiment or use an existing one."
   ]
  },
  {
   "cell_type": "code",
   "execution_count": null,
   "id": "cb856737",
   "metadata": {},
   "outputs": [],
   "source": [
    "mlflow.set_experiment(\"Regression Experiment\")"
   ]
  },
  {
   "cell_type": "markdown",
   "id": "48916654",
   "metadata": {},
   "source": [
    "- **Model Training and Logging**:<br>\n",
    "    Train your regression model while logging relevant parameters and metrics."
   ]
  },
  {
   "cell_type": "code",
   "execution_count": null,
   "id": "8740d3eb",
   "metadata": {},
   "outputs": [],
   "source": [
    "with mlflow.start_run():\n",
    "    model = YourRegressionModel()  # Replace with your regression model\n",
    "    model.fit(X_train, y_train)\n",
    "\n",
    "    # Log parameters\n",
    "    mlflow.log_params({\n",
    "        \"model_name\": \"Your Model\",\n",
    "        \"hyperparameter1\": value1,\n",
    "        \"hyperparameter2\": value2,\n",
    "    })\n",
    "\n",
    "    # Predict on the test set\n",
    "    y_pred = model.predict(X_test)\n",
    "\n",
    "    # Calculate and log the evaluation metric (e.g., RMSE)\n",
    "    rmse = mean_squared_error(y_test, y_pred, squared=False)\n",
    "    mlflow.log_metric(\"RMSE\", rmse)\n"
   ]
  },
  {
   "cell_type": "markdown",
   "id": "43ffae90",
   "metadata": {},
   "source": [
    "- **Model Serialization**:<br>\n",
    "    Serialize your trained model so it can be loaded and used in the future."
   ]
  },
  {
   "cell_type": "code",
   "execution_count": null,
   "id": "64534392",
   "metadata": {},
   "outputs": [],
   "source": [
    "mlflow.sklearn.save_model(model, \"model\")"
   ]
  },
  {
   "cell_type": "markdown",
   "id": "5112ed9e",
   "metadata": {},
   "source": [
    "- **Experiment Review**:<br>\n",
    "    You can view and compare your experiments using the MLflow UI by running:"
   ]
  },
  {
   "cell_type": "code",
   "execution_count": null,
   "id": "8bcd4a4a",
   "metadata": {},
   "outputs": [],
   "source": [
    "mlflow ui"
   ]
  },
  {
   "cell_type": "markdown",
   "id": "8f2f15fa",
   "metadata": {},
   "source": [
    "- **Loading Models**:<br>\n",
    "    To load a saved model, you can use the `mlflow.sklearn.load_model` function."
   ]
  },
  {
   "cell_type": "code",
   "execution_count": null,
   "id": "d50cc408",
   "metadata": {},
   "outputs": [],
   "source": [
    "loaded_model = mlflow.sklearn.load_model(\"model\")"
   ]
  },
  {
   "cell_type": "markdown",
   "id": "6512c65e",
   "metadata": {},
   "source": [
    "4. **Additional Experimentation**:<br>\n",
    "    Continue iterating on your model by adjusting hyperparameters, trying different algorithms, and logging multiple runs within the same experiment to compare performance.<br>\n",
    "This is a basic example of how to use MLflow for regression model experimentation. MLflow's tracking functionality allows you to organize and compare different runs and models easily. It also makes it possible to reproduce and deploy models consistently."
   ]
  },
  {
   "cell_type": "code",
   "execution_count": null,
   "id": "1a8191b9",
   "metadata": {},
   "outputs": [],
   "source": []
  },
  {
   "cell_type": "code",
   "execution_count": null,
   "id": "6e4523b4",
   "metadata": {},
   "outputs": [],
   "source": []
  }
 ],
 "metadata": {
  "kernelspec": {
   "display_name": "Python 3 (ipykernel)",
   "language": "python",
   "name": "python3"
  },
  "language_info": {
   "codemirror_mode": {
    "name": "ipython",
    "version": 3
   },
   "file_extension": ".py",
   "mimetype": "text/x-python",
   "name": "python",
   "nbconvert_exporter": "python",
   "pygments_lexer": "ipython3",
   "version": "3.10.6"
  }
 },
 "nbformat": 4,
 "nbformat_minor": 5
}
