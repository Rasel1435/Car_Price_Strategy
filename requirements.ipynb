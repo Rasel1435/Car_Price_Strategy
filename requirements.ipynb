{
 "cells": [
  {
   "cell_type": "code",
   "execution_count": null,
   "id": "d33911b7",
   "metadata": {},
   "outputs": [],
   "source": [
    "# python -m venv myenv"
   ]
  },
  {
   "cell_type": "code",
   "execution_count": null,
   "id": "34a5c1c0",
   "metadata": {},
   "outputs": [],
   "source": [
    "# source myenv/Scripts/activate"
   ]
  },
  {
   "cell_type": "code",
   "execution_count": 1,
   "id": "ac41a177",
   "metadata": {},
   "outputs": [],
   "source": [
    "# deactivate"
   ]
  },
  {
   "cell_type": "code",
   "execution_count": null,
   "id": "ff0de731",
   "metadata": {},
   "outputs": [],
   "source": [
    "# pip install mlflow"
   ]
  },
  {
   "cell_type": "code",
   "execution_count": 3,
   "id": "73117a8f",
   "metadata": {},
   "outputs": [],
   "source": [
    "# pip install jupyter notebook"
   ]
  },
  {
   "cell_type": "code",
   "execution_count": null,
   "id": "d6010704-074e-40a7-b75d-d392d30b7f65",
   "metadata": {},
   "outputs": [],
   "source": [
    "# jupyter notebook"
   ]
  }
 ],
 "metadata": {
  "kernelspec": {
   "display_name": "Python 3 (ipykernel)",
   "language": "python",
   "name": "python3"
  },
  "language_info": {
   "codemirror_mode": {
    "name": "ipython",
    "version": 3
   },
   "file_extension": ".py",
   "mimetype": "text/x-python",
   "name": "python",
   "nbconvert_exporter": "python",
   "pygments_lexer": "ipython3",
   "version": "3.10.6"
  }
 },
 "nbformat": 4,
 "nbformat_minor": 5
}
