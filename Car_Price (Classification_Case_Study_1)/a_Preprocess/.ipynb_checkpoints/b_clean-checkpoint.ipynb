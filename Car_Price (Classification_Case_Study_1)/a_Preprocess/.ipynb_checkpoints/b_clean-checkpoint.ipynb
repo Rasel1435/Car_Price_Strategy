{
 "cells": [
  {
   "cell_type": "markdown",
   "id": "8821dd6f-5366-4830-8e3e-46ed83731519",
   "metadata": {},
   "source": [
    "# Import Necessary Libraries"
   ]
  },
  {
   "cell_type": "code",
   "execution_count": 55,
   "id": "839da90f-3811-41fc-b805-c36a4361d538",
   "metadata": {},
   "outputs": [],
   "source": [
    "import pandas as pd\n",
    "import numpy as np \n",
    "import matplotlib.pyplot as plt\n",
    "import seaborn as sns\n",
    "import cv2\n",
    "\n",
    "%matplotlib inline"
   ]
  },
  {
   "cell_type": "markdown",
   "id": "cc8069f7-d966-419d-8c5b-82b198eafe1b",
   "metadata": {},
   "source": [
    "# Loading Data"
   ]
  },
  {
   "cell_type": "code",
   "execution_count": 56,
   "id": "081994e9-eed3-45e2-be18-dbda7612e869",
   "metadata": {},
   "outputs": [
    {
     "data": {
      "text/html": [
       "<div>\n",
       "<style scoped>\n",
       "    .dataframe tbody tr th:only-of-type {\n",
       "        vertical-align: middle;\n",
       "    }\n",
       "\n",
       "    .dataframe tbody tr th {\n",
       "        vertical-align: top;\n",
       "    }\n",
       "\n",
       "    .dataframe thead th {\n",
       "        text-align: right;\n",
       "    }\n",
       "</style>\n",
       "<table border=\"1\" class=\"dataframe\">\n",
       "  <thead>\n",
       "    <tr style=\"text-align: right;\">\n",
       "      <th></th>\n",
       "      <th>car_ID</th>\n",
       "      <th>symboling</th>\n",
       "      <th>CarName</th>\n",
       "      <th>fueltype</th>\n",
       "      <th>aspiration</th>\n",
       "      <th>doornumber</th>\n",
       "      <th>carbody</th>\n",
       "      <th>drivewheel</th>\n",
       "      <th>enginelocation</th>\n",
       "      <th>wheelbase</th>\n",
       "      <th>...</th>\n",
       "      <th>enginesize</th>\n",
       "      <th>fuelsystem</th>\n",
       "      <th>boreratio</th>\n",
       "      <th>stroke</th>\n",
       "      <th>compressionratio</th>\n",
       "      <th>horsepower</th>\n",
       "      <th>peakrpm</th>\n",
       "      <th>citympg</th>\n",
       "      <th>highwaympg</th>\n",
       "      <th>price</th>\n",
       "    </tr>\n",
       "  </thead>\n",
       "  <tbody>\n",
       "    <tr>\n",
       "      <th>0</th>\n",
       "      <td>1</td>\n",
       "      <td>3</td>\n",
       "      <td>alfa-romero giulia</td>\n",
       "      <td>gas</td>\n",
       "      <td>std</td>\n",
       "      <td>two</td>\n",
       "      <td>convertible</td>\n",
       "      <td>rwd</td>\n",
       "      <td>front</td>\n",
       "      <td>88.6</td>\n",
       "      <td>...</td>\n",
       "      <td>130</td>\n",
       "      <td>mpfi</td>\n",
       "      <td>3.47</td>\n",
       "      <td>2.68</td>\n",
       "      <td>9.0</td>\n",
       "      <td>111</td>\n",
       "      <td>5000</td>\n",
       "      <td>21</td>\n",
       "      <td>27</td>\n",
       "      <td>13495.0</td>\n",
       "    </tr>\n",
       "    <tr>\n",
       "      <th>1</th>\n",
       "      <td>2</td>\n",
       "      <td>3</td>\n",
       "      <td>alfa-romero stelvio</td>\n",
       "      <td>gas</td>\n",
       "      <td>std</td>\n",
       "      <td>two</td>\n",
       "      <td>convertible</td>\n",
       "      <td>rwd</td>\n",
       "      <td>front</td>\n",
       "      <td>88.6</td>\n",
       "      <td>...</td>\n",
       "      <td>130</td>\n",
       "      <td>mpfi</td>\n",
       "      <td>3.47</td>\n",
       "      <td>2.68</td>\n",
       "      <td>9.0</td>\n",
       "      <td>111</td>\n",
       "      <td>5000</td>\n",
       "      <td>21</td>\n",
       "      <td>27</td>\n",
       "      <td>16500.0</td>\n",
       "    </tr>\n",
       "    <tr>\n",
       "      <th>2</th>\n",
       "      <td>3</td>\n",
       "      <td>1</td>\n",
       "      <td>alfa-romero Quadrifoglio</td>\n",
       "      <td>gas</td>\n",
       "      <td>std</td>\n",
       "      <td>two</td>\n",
       "      <td>hatchback</td>\n",
       "      <td>rwd</td>\n",
       "      <td>front</td>\n",
       "      <td>94.5</td>\n",
       "      <td>...</td>\n",
       "      <td>152</td>\n",
       "      <td>mpfi</td>\n",
       "      <td>2.68</td>\n",
       "      <td>3.47</td>\n",
       "      <td>9.0</td>\n",
       "      <td>154</td>\n",
       "      <td>5000</td>\n",
       "      <td>19</td>\n",
       "      <td>26</td>\n",
       "      <td>16500.0</td>\n",
       "    </tr>\n",
       "    <tr>\n",
       "      <th>3</th>\n",
       "      <td>4</td>\n",
       "      <td>2</td>\n",
       "      <td>audi 100 ls</td>\n",
       "      <td>gas</td>\n",
       "      <td>std</td>\n",
       "      <td>four</td>\n",
       "      <td>sedan</td>\n",
       "      <td>fwd</td>\n",
       "      <td>front</td>\n",
       "      <td>99.8</td>\n",
       "      <td>...</td>\n",
       "      <td>109</td>\n",
       "      <td>mpfi</td>\n",
       "      <td>3.19</td>\n",
       "      <td>3.40</td>\n",
       "      <td>10.0</td>\n",
       "      <td>102</td>\n",
       "      <td>5500</td>\n",
       "      <td>24</td>\n",
       "      <td>30</td>\n",
       "      <td>13950.0</td>\n",
       "    </tr>\n",
       "    <tr>\n",
       "      <th>4</th>\n",
       "      <td>5</td>\n",
       "      <td>2</td>\n",
       "      <td>audi 100ls</td>\n",
       "      <td>gas</td>\n",
       "      <td>std</td>\n",
       "      <td>four</td>\n",
       "      <td>sedan</td>\n",
       "      <td>4wd</td>\n",
       "      <td>front</td>\n",
       "      <td>99.4</td>\n",
       "      <td>...</td>\n",
       "      <td>136</td>\n",
       "      <td>mpfi</td>\n",
       "      <td>3.19</td>\n",
       "      <td>3.40</td>\n",
       "      <td>8.0</td>\n",
       "      <td>115</td>\n",
       "      <td>5500</td>\n",
       "      <td>18</td>\n",
       "      <td>22</td>\n",
       "      <td>17450.0</td>\n",
       "    </tr>\n",
       "  </tbody>\n",
       "</table>\n",
       "<p>5 rows × 26 columns</p>\n",
       "</div>"
      ],
      "text/plain": [
       "   car_ID  symboling                   CarName fueltype aspiration doornumber  \\\n",
       "0       1          3        alfa-romero giulia      gas        std        two   \n",
       "1       2          3       alfa-romero stelvio      gas        std        two   \n",
       "2       3          1  alfa-romero Quadrifoglio      gas        std        two   \n",
       "3       4          2               audi 100 ls      gas        std       four   \n",
       "4       5          2                audi 100ls      gas        std       four   \n",
       "\n",
       "       carbody drivewheel enginelocation  wheelbase  ...  enginesize  \\\n",
       "0  convertible        rwd          front       88.6  ...         130   \n",
       "1  convertible        rwd          front       88.6  ...         130   \n",
       "2    hatchback        rwd          front       94.5  ...         152   \n",
       "3        sedan        fwd          front       99.8  ...         109   \n",
       "4        sedan        4wd          front       99.4  ...         136   \n",
       "\n",
       "   fuelsystem  boreratio  stroke compressionratio horsepower  peakrpm citympg  \\\n",
       "0        mpfi       3.47    2.68              9.0        111     5000      21   \n",
       "1        mpfi       3.47    2.68              9.0        111     5000      21   \n",
       "2        mpfi       2.68    3.47              9.0        154     5000      19   \n",
       "3        mpfi       3.19    3.40             10.0        102     5500      24   \n",
       "4        mpfi       3.19    3.40              8.0        115     5500      18   \n",
       "\n",
       "   highwaympg    price  \n",
       "0          27  13495.0  \n",
       "1          27  16500.0  \n",
       "2          26  16500.0  \n",
       "3          30  13950.0  \n",
       "4          22  17450.0  \n",
       "\n",
       "[5 rows x 26 columns]"
      ]
     },
     "execution_count": 56,
     "metadata": {},
     "output_type": "execute_result"
    }
   ],
   "source": [
    "data = pd.read_csv('../data/CarPrice.csv')\n",
    "data.head()"
   ]
  },
  {
   "cell_type": "markdown",
   "id": "1482c221-087a-4b4d-915b-11d86c8bfbd4",
   "metadata": {},
   "source": [
    "# Checking Duplicates"
   ]
  },
  {
   "cell_type": "code",
   "execution_count": 76,
   "id": "96dea31a-f0ea-4c8c-a14c-e6003b55d4d0",
   "metadata": {},
   "outputs": [
    {
     "name": "stdout",
     "output_type": "stream",
     "text": [
      "0      False\n",
      "1      False\n",
      "2      False\n",
      "3      False\n",
      "4      False\n",
      "       ...  \n",
      "200    False\n",
      "201    False\n",
      "202    False\n",
      "203    False\n",
      "204    False\n",
      "Length: 205, dtype: bool\n"
     ]
    }
   ],
   "source": [
    "duplicates = data.duplicated()\n",
    "print(duplicates)\n",
    "# data.duplicated(subset=['price'])"
   ]
  },
  {
   "cell_type": "code",
   "execution_count": 77,
   "id": "7a9afae1-68ea-484a-bf0d-487175e732a8",
   "metadata": {},
   "outputs": [
    {
     "name": "stdout",
     "output_type": "stream",
     "text": [
      "False    205\n",
      "Name: count, dtype: int64\n"
     ]
    }
   ],
   "source": [
    "# Check for duplicate values\n",
    "value_counts  = data.duplicated().value_counts()\n",
    "print(value_counts )"
   ]
  },
  {
   "cell_type": "markdown",
   "id": "c33177f4-f8a9-4ef6-86c1-8e1e7defedc3",
   "metadata": {},
   "source": [
    "#### As we can see there is no duplicates"
   ]
  },
  {
   "cell_type": "markdown",
   "id": "5db466de-b2be-4063-b3ec-84fd5b2e7a57",
   "metadata": {},
   "source": [
    "# Droping Duplicates"
   ]
  },
  {
   "cell_type": "code",
   "execution_count": 75,
   "id": "27a38a44-a4c9-406e-8cbf-e067997c92ab",
   "metadata": {},
   "outputs": [],
   "source": [
    "#### drop_duplicates = data.drop_duplicates()\n",
    "#### drop_duplicates = data.drop_duplicates(subset=['price'])"
   ]
  },
  {
   "cell_type": "markdown",
   "id": "fb352308-ee28-4a14-8d65-742f57005977",
   "metadata": {},
   "source": [
    "# Handling Missing Values\n",
    "* Detect\n",
    "* Remove or Drop\n",
    "* Filtering\n",
    "* if the data is categorical then we have to use \"Mode\"\n",
    "* if data is numerical, we have to use \"mean\", and \"median\"."
   ]
  },
  {
   "cell_type": "markdown",
   "id": "c57bd5ec-948b-465e-b05f-8ad512dd810c",
   "metadata": {},
   "source": [
    "### Detect"
   ]
  },
  {
   "cell_type": "code",
   "execution_count": 4,
   "id": "ab04876c-fc73-4e89-ae3a-965a5df1131e",
   "metadata": {},
   "outputs": [
    {
     "data": {
      "text/html": [
       "<div>\n",
       "<style scoped>\n",
       "    .dataframe tbody tr th:only-of-type {\n",
       "        vertical-align: middle;\n",
       "    }\n",
       "\n",
       "    .dataframe tbody tr th {\n",
       "        vertical-align: top;\n",
       "    }\n",
       "\n",
       "    .dataframe thead th {\n",
       "        text-align: right;\n",
       "    }\n",
       "</style>\n",
       "<table border=\"1\" class=\"dataframe\">\n",
       "  <thead>\n",
       "    <tr style=\"text-align: right;\">\n",
       "      <th></th>\n",
       "      <th>car_ID</th>\n",
       "      <th>symboling</th>\n",
       "      <th>CarName</th>\n",
       "      <th>fueltype</th>\n",
       "      <th>aspiration</th>\n",
       "      <th>doornumber</th>\n",
       "      <th>carbody</th>\n",
       "      <th>drivewheel</th>\n",
       "      <th>enginelocation</th>\n",
       "      <th>wheelbase</th>\n",
       "      <th>...</th>\n",
       "      <th>enginesize</th>\n",
       "      <th>fuelsystem</th>\n",
       "      <th>boreratio</th>\n",
       "      <th>stroke</th>\n",
       "      <th>compressionratio</th>\n",
       "      <th>horsepower</th>\n",
       "      <th>peakrpm</th>\n",
       "      <th>citympg</th>\n",
       "      <th>highwaympg</th>\n",
       "      <th>price</th>\n",
       "    </tr>\n",
       "  </thead>\n",
       "  <tbody>\n",
       "    <tr>\n",
       "      <th>0</th>\n",
       "      <td>False</td>\n",
       "      <td>False</td>\n",
       "      <td>False</td>\n",
       "      <td>False</td>\n",
       "      <td>False</td>\n",
       "      <td>False</td>\n",
       "      <td>False</td>\n",
       "      <td>False</td>\n",
       "      <td>False</td>\n",
       "      <td>False</td>\n",
       "      <td>...</td>\n",
       "      <td>False</td>\n",
       "      <td>False</td>\n",
       "      <td>False</td>\n",
       "      <td>False</td>\n",
       "      <td>False</td>\n",
       "      <td>False</td>\n",
       "      <td>False</td>\n",
       "      <td>False</td>\n",
       "      <td>False</td>\n",
       "      <td>False</td>\n",
       "    </tr>\n",
       "    <tr>\n",
       "      <th>1</th>\n",
       "      <td>False</td>\n",
       "      <td>False</td>\n",
       "      <td>False</td>\n",
       "      <td>False</td>\n",
       "      <td>False</td>\n",
       "      <td>False</td>\n",
       "      <td>False</td>\n",
       "      <td>False</td>\n",
       "      <td>False</td>\n",
       "      <td>False</td>\n",
       "      <td>...</td>\n",
       "      <td>False</td>\n",
       "      <td>False</td>\n",
       "      <td>False</td>\n",
       "      <td>False</td>\n",
       "      <td>False</td>\n",
       "      <td>False</td>\n",
       "      <td>False</td>\n",
       "      <td>False</td>\n",
       "      <td>False</td>\n",
       "      <td>False</td>\n",
       "    </tr>\n",
       "    <tr>\n",
       "      <th>2</th>\n",
       "      <td>False</td>\n",
       "      <td>False</td>\n",
       "      <td>False</td>\n",
       "      <td>False</td>\n",
       "      <td>False</td>\n",
       "      <td>False</td>\n",
       "      <td>False</td>\n",
       "      <td>False</td>\n",
       "      <td>False</td>\n",
       "      <td>False</td>\n",
       "      <td>...</td>\n",
       "      <td>False</td>\n",
       "      <td>False</td>\n",
       "      <td>False</td>\n",
       "      <td>False</td>\n",
       "      <td>False</td>\n",
       "      <td>False</td>\n",
       "      <td>False</td>\n",
       "      <td>False</td>\n",
       "      <td>False</td>\n",
       "      <td>False</td>\n",
       "    </tr>\n",
       "    <tr>\n",
       "      <th>3</th>\n",
       "      <td>False</td>\n",
       "      <td>False</td>\n",
       "      <td>False</td>\n",
       "      <td>False</td>\n",
       "      <td>False</td>\n",
       "      <td>False</td>\n",
       "      <td>False</td>\n",
       "      <td>False</td>\n",
       "      <td>False</td>\n",
       "      <td>False</td>\n",
       "      <td>...</td>\n",
       "      <td>False</td>\n",
       "      <td>False</td>\n",
       "      <td>False</td>\n",
       "      <td>False</td>\n",
       "      <td>False</td>\n",
       "      <td>False</td>\n",
       "      <td>False</td>\n",
       "      <td>False</td>\n",
       "      <td>False</td>\n",
       "      <td>False</td>\n",
       "    </tr>\n",
       "    <tr>\n",
       "      <th>4</th>\n",
       "      <td>False</td>\n",
       "      <td>False</td>\n",
       "      <td>False</td>\n",
       "      <td>False</td>\n",
       "      <td>False</td>\n",
       "      <td>False</td>\n",
       "      <td>False</td>\n",
       "      <td>False</td>\n",
       "      <td>False</td>\n",
       "      <td>False</td>\n",
       "      <td>...</td>\n",
       "      <td>False</td>\n",
       "      <td>False</td>\n",
       "      <td>False</td>\n",
       "      <td>False</td>\n",
       "      <td>False</td>\n",
       "      <td>False</td>\n",
       "      <td>False</td>\n",
       "      <td>False</td>\n",
       "      <td>False</td>\n",
       "      <td>False</td>\n",
       "    </tr>\n",
       "    <tr>\n",
       "      <th>...</th>\n",
       "      <td>...</td>\n",
       "      <td>...</td>\n",
       "      <td>...</td>\n",
       "      <td>...</td>\n",
       "      <td>...</td>\n",
       "      <td>...</td>\n",
       "      <td>...</td>\n",
       "      <td>...</td>\n",
       "      <td>...</td>\n",
       "      <td>...</td>\n",
       "      <td>...</td>\n",
       "      <td>...</td>\n",
       "      <td>...</td>\n",
       "      <td>...</td>\n",
       "      <td>...</td>\n",
       "      <td>...</td>\n",
       "      <td>...</td>\n",
       "      <td>...</td>\n",
       "      <td>...</td>\n",
       "      <td>...</td>\n",
       "      <td>...</td>\n",
       "    </tr>\n",
       "    <tr>\n",
       "      <th>200</th>\n",
       "      <td>False</td>\n",
       "      <td>False</td>\n",
       "      <td>False</td>\n",
       "      <td>False</td>\n",
       "      <td>False</td>\n",
       "      <td>False</td>\n",
       "      <td>False</td>\n",
       "      <td>False</td>\n",
       "      <td>False</td>\n",
       "      <td>False</td>\n",
       "      <td>...</td>\n",
       "      <td>False</td>\n",
       "      <td>False</td>\n",
       "      <td>False</td>\n",
       "      <td>False</td>\n",
       "      <td>False</td>\n",
       "      <td>False</td>\n",
       "      <td>False</td>\n",
       "      <td>False</td>\n",
       "      <td>False</td>\n",
       "      <td>False</td>\n",
       "    </tr>\n",
       "    <tr>\n",
       "      <th>201</th>\n",
       "      <td>False</td>\n",
       "      <td>False</td>\n",
       "      <td>False</td>\n",
       "      <td>False</td>\n",
       "      <td>False</td>\n",
       "      <td>False</td>\n",
       "      <td>False</td>\n",
       "      <td>False</td>\n",
       "      <td>False</td>\n",
       "      <td>False</td>\n",
       "      <td>...</td>\n",
       "      <td>False</td>\n",
       "      <td>False</td>\n",
       "      <td>False</td>\n",
       "      <td>False</td>\n",
       "      <td>False</td>\n",
       "      <td>False</td>\n",
       "      <td>False</td>\n",
       "      <td>False</td>\n",
       "      <td>False</td>\n",
       "      <td>False</td>\n",
       "    </tr>\n",
       "    <tr>\n",
       "      <th>202</th>\n",
       "      <td>False</td>\n",
       "      <td>False</td>\n",
       "      <td>False</td>\n",
       "      <td>False</td>\n",
       "      <td>False</td>\n",
       "      <td>False</td>\n",
       "      <td>False</td>\n",
       "      <td>False</td>\n",
       "      <td>False</td>\n",
       "      <td>False</td>\n",
       "      <td>...</td>\n",
       "      <td>False</td>\n",
       "      <td>False</td>\n",
       "      <td>False</td>\n",
       "      <td>False</td>\n",
       "      <td>False</td>\n",
       "      <td>False</td>\n",
       "      <td>False</td>\n",
       "      <td>False</td>\n",
       "      <td>False</td>\n",
       "      <td>False</td>\n",
       "    </tr>\n",
       "    <tr>\n",
       "      <th>203</th>\n",
       "      <td>False</td>\n",
       "      <td>False</td>\n",
       "      <td>False</td>\n",
       "      <td>False</td>\n",
       "      <td>False</td>\n",
       "      <td>False</td>\n",
       "      <td>False</td>\n",
       "      <td>False</td>\n",
       "      <td>False</td>\n",
       "      <td>False</td>\n",
       "      <td>...</td>\n",
       "      <td>False</td>\n",
       "      <td>False</td>\n",
       "      <td>False</td>\n",
       "      <td>False</td>\n",
       "      <td>False</td>\n",
       "      <td>False</td>\n",
       "      <td>False</td>\n",
       "      <td>False</td>\n",
       "      <td>False</td>\n",
       "      <td>False</td>\n",
       "    </tr>\n",
       "    <tr>\n",
       "      <th>204</th>\n",
       "      <td>False</td>\n",
       "      <td>False</td>\n",
       "      <td>False</td>\n",
       "      <td>False</td>\n",
       "      <td>False</td>\n",
       "      <td>False</td>\n",
       "      <td>False</td>\n",
       "      <td>False</td>\n",
       "      <td>False</td>\n",
       "      <td>False</td>\n",
       "      <td>...</td>\n",
       "      <td>False</td>\n",
       "      <td>False</td>\n",
       "      <td>False</td>\n",
       "      <td>False</td>\n",
       "      <td>False</td>\n",
       "      <td>False</td>\n",
       "      <td>False</td>\n",
       "      <td>False</td>\n",
       "      <td>False</td>\n",
       "      <td>False</td>\n",
       "    </tr>\n",
       "  </tbody>\n",
       "</table>\n",
       "<p>205 rows × 26 columns</p>\n",
       "</div>"
      ],
      "text/plain": [
       "     car_ID  symboling  CarName  fueltype  aspiration  doornumber  carbody  \\\n",
       "0     False      False    False     False       False       False    False   \n",
       "1     False      False    False     False       False       False    False   \n",
       "2     False      False    False     False       False       False    False   \n",
       "3     False      False    False     False       False       False    False   \n",
       "4     False      False    False     False       False       False    False   \n",
       "..      ...        ...      ...       ...         ...         ...      ...   \n",
       "200   False      False    False     False       False       False    False   \n",
       "201   False      False    False     False       False       False    False   \n",
       "202   False      False    False     False       False       False    False   \n",
       "203   False      False    False     False       False       False    False   \n",
       "204   False      False    False     False       False       False    False   \n",
       "\n",
       "     drivewheel  enginelocation  wheelbase  ...  enginesize  fuelsystem  \\\n",
       "0         False           False      False  ...       False       False   \n",
       "1         False           False      False  ...       False       False   \n",
       "2         False           False      False  ...       False       False   \n",
       "3         False           False      False  ...       False       False   \n",
       "4         False           False      False  ...       False       False   \n",
       "..          ...             ...        ...  ...         ...         ...   \n",
       "200       False           False      False  ...       False       False   \n",
       "201       False           False      False  ...       False       False   \n",
       "202       False           False      False  ...       False       False   \n",
       "203       False           False      False  ...       False       False   \n",
       "204       False           False      False  ...       False       False   \n",
       "\n",
       "     boreratio  stroke  compressionratio  horsepower  peakrpm  citympg  \\\n",
       "0        False   False             False       False    False    False   \n",
       "1        False   False             False       False    False    False   \n",
       "2        False   False             False       False    False    False   \n",
       "3        False   False             False       False    False    False   \n",
       "4        False   False             False       False    False    False   \n",
       "..         ...     ...               ...         ...      ...      ...   \n",
       "200      False   False             False       False    False    False   \n",
       "201      False   False             False       False    False    False   \n",
       "202      False   False             False       False    False    False   \n",
       "203      False   False             False       False    False    False   \n",
       "204      False   False             False       False    False    False   \n",
       "\n",
       "     highwaympg  price  \n",
       "0         False  False  \n",
       "1         False  False  \n",
       "2         False  False  \n",
       "3         False  False  \n",
       "4         False  False  \n",
       "..          ...    ...  \n",
       "200       False  False  \n",
       "201       False  False  \n",
       "202       False  False  \n",
       "203       False  False  \n",
       "204       False  False  \n",
       "\n",
       "[205 rows x 26 columns]"
      ]
     },
     "execution_count": 4,
     "metadata": {},
     "output_type": "execute_result"
    }
   ],
   "source": [
    "data.isnull()"
   ]
  },
  {
   "cell_type": "code",
   "execution_count": 84,
   "id": "0cd555c1-e495-4a18-a4c5-90808001fc35",
   "metadata": {},
   "outputs": [
    {
     "data": {
      "text/plain": [
       "car_ID              0\n",
       "symboling           0\n",
       "CarName             0\n",
       "fueltype            0\n",
       "aspiration          0\n",
       "doornumber          0\n",
       "carbody             0\n",
       "drivewheel          0\n",
       "enginelocation      0\n",
       "wheelbase           0\n",
       "carlength           0\n",
       "carwidth            0\n",
       "carheight           0\n",
       "curbweight          0\n",
       "enginetype          0\n",
       "cylindernumber      0\n",
       "enginesize          0\n",
       "fuelsystem          0\n",
       "boreratio           0\n",
       "stroke              0\n",
       "compressionratio    0\n",
       "horsepower          0\n",
       "peakrpm             0\n",
       "citympg             0\n",
       "highwaympg          0\n",
       "price               0\n",
       "dtype: int64"
      ]
     },
     "execution_count": 84,
     "metadata": {},
     "output_type": "execute_result"
    }
   ],
   "source": [
    "data.isnull().sum()"
   ]
  },
  {
   "cell_type": "code",
   "execution_count": 89,
   "id": "1912e90d-6761-4550-947c-2680e627adba",
   "metadata": {},
   "outputs": [
    {
     "data": {
      "text/plain": [
       "0    26\n",
       "Name: count, dtype: int64"
      ]
     },
     "execution_count": 89,
     "metadata": {},
     "output_type": "execute_result"
    }
   ],
   "source": [
    "data.isnull().sum().value_counts()"
   ]
  },
  {
   "cell_type": "code",
   "execution_count": 90,
   "id": "5949ccf5-7497-43f3-9f71-1701212c436d",
   "metadata": {},
   "outputs": [
    {
     "data": {
      "text/plain": [
       "0      0\n",
       "1      0\n",
       "2      0\n",
       "3      0\n",
       "4      0\n",
       "      ..\n",
       "200    0\n",
       "201    0\n",
       "202    0\n",
       "203    0\n",
       "204    0\n",
       "Length: 205, dtype: int64"
      ]
     },
     "execution_count": 90,
     "metadata": {},
     "output_type": "execute_result"
    }
   ],
   "source": [
    "data.isnull().sum(axis=1)"
   ]
  },
  {
   "cell_type": "code",
   "execution_count": 91,
   "id": "e50e658b-9324-49dc-af23-0f12f881cbc9",
   "metadata": {},
   "outputs": [
    {
     "data": {
      "text/plain": [
       "0    205\n",
       "Name: count, dtype: int64"
      ]
     },
     "execution_count": 91,
     "metadata": {},
     "output_type": "execute_result"
    }
   ],
   "source": [
    "data.isnull().sum(axis=1).value_counts()"
   ]
  },
  {
   "cell_type": "markdown",
   "id": "7815f738-ee63-42cc-954c-9c9ffe2811b3",
   "metadata": {},
   "source": [
    "## let's Check Target"
   ]
  },
  {
   "cell_type": "code",
   "execution_count": 79,
   "id": "66a816f7-3c6e-4f35-a5a3-936abc884a0d",
   "metadata": {},
   "outputs": [
    {
     "data": {
      "text/html": [
       "<div>\n",
       "<style scoped>\n",
       "    .dataframe tbody tr th:only-of-type {\n",
       "        vertical-align: middle;\n",
       "    }\n",
       "\n",
       "    .dataframe tbody tr th {\n",
       "        vertical-align: top;\n",
       "    }\n",
       "\n",
       "    .dataframe thead th {\n",
       "        text-align: right;\n",
       "    }\n",
       "</style>\n",
       "<table border=\"1\" class=\"dataframe\">\n",
       "  <thead>\n",
       "    <tr style=\"text-align: right;\">\n",
       "      <th></th>\n",
       "      <th>price</th>\n",
       "    </tr>\n",
       "  </thead>\n",
       "  <tbody>\n",
       "    <tr>\n",
       "      <th>0</th>\n",
       "      <td>13495.0</td>\n",
       "    </tr>\n",
       "    <tr>\n",
       "      <th>1</th>\n",
       "      <td>16500.0</td>\n",
       "    </tr>\n",
       "    <tr>\n",
       "      <th>2</th>\n",
       "      <td>16500.0</td>\n",
       "    </tr>\n",
       "    <tr>\n",
       "      <th>3</th>\n",
       "      <td>13950.0</td>\n",
       "    </tr>\n",
       "    <tr>\n",
       "      <th>4</th>\n",
       "      <td>17450.0</td>\n",
       "    </tr>\n",
       "    <tr>\n",
       "      <th>...</th>\n",
       "      <td>...</td>\n",
       "    </tr>\n",
       "    <tr>\n",
       "      <th>200</th>\n",
       "      <td>16845.0</td>\n",
       "    </tr>\n",
       "    <tr>\n",
       "      <th>201</th>\n",
       "      <td>19045.0</td>\n",
       "    </tr>\n",
       "    <tr>\n",
       "      <th>202</th>\n",
       "      <td>21485.0</td>\n",
       "    </tr>\n",
       "    <tr>\n",
       "      <th>203</th>\n",
       "      <td>22470.0</td>\n",
       "    </tr>\n",
       "    <tr>\n",
       "      <th>204</th>\n",
       "      <td>22625.0</td>\n",
       "    </tr>\n",
       "  </tbody>\n",
       "</table>\n",
       "<p>205 rows × 1 columns</p>\n",
       "</div>"
      ],
      "text/plain": [
       "       price\n",
       "0    13495.0\n",
       "1    16500.0\n",
       "2    16500.0\n",
       "3    13950.0\n",
       "4    17450.0\n",
       "..       ...\n",
       "200  16845.0\n",
       "201  19045.0\n",
       "202  21485.0\n",
       "203  22470.0\n",
       "204  22625.0\n",
       "\n",
       "[205 rows x 1 columns]"
      ]
     },
     "execution_count": 79,
     "metadata": {},
     "output_type": "execute_result"
    }
   ],
   "source": [
    "price = data[['price']]\n",
    "price"
   ]
  },
  {
   "cell_type": "code",
   "execution_count": 80,
   "id": "23f79b4b-cc4f-41a1-8989-d52d26b82ae2",
   "metadata": {},
   "outputs": [
    {
     "data": {
      "text/plain": [
       "price    0\n",
       "dtype: int64"
      ]
     },
     "execution_count": 80,
     "metadata": {},
     "output_type": "execute_result"
    }
   ],
   "source": [
    "price.isnull().sum()"
   ]
  },
  {
   "cell_type": "markdown",
   "id": "d2b07234-0046-49d1-b7fc-86a8c6450f64",
   "metadata": {},
   "source": [
    "### There is no Missing Value"
   ]
  },
  {
   "cell_type": "markdown",
   "id": "fdbe0a07-5fc0-45b4-8ef2-90c13b21c95b",
   "metadata": {},
   "source": [
    "### Remove or Drop"
   ]
  },
  {
   "cell_type": "code",
   "execution_count": null,
   "id": "87e7a9a2-7e5b-4148-a1f6-d63db0ff03f2",
   "metadata": {},
   "outputs": [],
   "source": [
    "#### data.dropna(inplace=True)"
   ]
  },
  {
   "cell_type": "code",
   "execution_count": null,
   "id": "1807a4c0-354b-43e9-9c5a-42de011ecfe8",
   "metadata": {},
   "outputs": [],
   "source": [
    "# Drop a single row by index\n",
    "#### data.drop(2, inplace=True)"
   ]
  },
  {
   "cell_type": "code",
   "execution_count": 96,
   "id": "bcc256f5-a45b-40e5-9346-083f40c1186c",
   "metadata": {},
   "outputs": [],
   "source": [
    "# Drop multiple rows by indices\n",
    "#### data.drop([1, 3], inplace=True)"
   ]
  },
  {
   "cell_type": "code",
   "execution_count": 97,
   "id": "689e1e56-fd1e-47a6-b475-d506a085e154",
   "metadata": {},
   "outputs": [],
   "source": [
    "# Specify the column name with null values\n",
    "# column_name = 'price'\n",
    "# data = data[data[column_name].notna()]"
   ]
  },
  {
   "cell_type": "markdown",
   "id": "135d35d3-26ee-4503-b2e7-f3586bb20eb8",
   "metadata": {},
   "source": [
    "### Filling with Median:\n",
    "\n",
    "* <b>When to Use:</b> The median is a robust measure of central tendency and is a good choice when you have numeric data with a skewed distribution, outliers, or continuous variables. It's less sensitive to extreme values compared to the mean.\n",
    "* Use the median when the dataset has numerical data and the null values are randomly distributed or when you want to fill in missing values in a way that doesn't depend on the sequence of data points.\r",
    "* \n",
    "This is a common approach when you're working with numerical features like age, income, or any other continuous variable.\n",
    "- <b>Example:</b> In a dataset of people's ages, if there are null values, filling them with the median age is a reasonable choice. It won't be significantly affected by outliers, and it preserves the overall distribution"
   ]
  },
  {
   "cell_type": "markdown",
   "id": "9efa9b53-fe72-4675-bbd4-e4e2e00d4f40",
   "metadata": {},
   "source": [
    "- <b> When data numerical, continues but randomly  distributed </b>"
   ]
  },
  {
   "cell_type": "code",
   "execution_count": 92,
   "id": "122d7183-1b3a-46d5-a8b7-268fb4e03f57",
   "metadata": {},
   "outputs": [],
   "source": [
    "#### new_price = price.fillna(price.median())\n",
    "#### new_price"
   ]
  },
  {
   "cell_type": "code",
   "execution_count": 100,
   "id": "351cdc6a-d605-4fc4-acf3-703f7de2ab11",
   "metadata": {},
   "outputs": [],
   "source": [
    "#### new2 = price.ffill()\n",
    "#### new2.isnull().sum()"
   ]
  },
  {
   "cell_type": "markdown",
   "id": "e8fe419d-b173-450a-bc03-79b786499801",
   "metadata": {},
   "source": [
    "### Filling from the previous row\n",
    "Filling missing values with the previous row's value is a suitable approach when your data meets the following conditions:\n",
    "* <b>Numerical:</b> Your data consists of numerical values, such as integers or real numbers.\r\n",
    "* <b>\r\n",
    "Continuou</b>s: The data represents a continuous variable, meaning that there are no discrete categories, and values can take any numeric value within a rang\n",
    "* <b> Ordered</b> : Your data is naturally ordered or follows a sequence, such as time-series data, where values occur in a specific order or hava temporal relationship."
   ]
  },
  {
   "cell_type": "markdown",
   "id": "cd5e3bdd-8de9-4855-b860-256f239f436a",
   "metadata": {},
   "source": [
    "### Filling from next row\n",
    "* Same as like previous row"
   ]
  },
  {
   "cell_type": "code",
   "execution_count": 95,
   "id": "e1a9ae19-baef-4b35-adfe-bf4f7bfaa6ff",
   "metadata": {},
   "outputs": [],
   "source": [
    "#### new3 = price.bfill()\n",
    "#### new3.isnull().sum()"
   ]
  },
  {
   "cell_type": "code",
   "execution_count": 9,
   "id": "a40e051a-c3ef-40ec-9293-8c612c180984",
   "metadata": {},
   "outputs": [],
   "source": [
    "### Filtering"
   ]
  },
  {
   "cell_type": "markdown",
   "id": "4073c960-84a1-46b6-9191-5103c70eb518",
   "metadata": {},
   "source": [
    "# Handling Outliers\n",
    "* Detect\n",
    "* Remove\n",
    "* Replace with mean, median\n",
    "* Log Normalization"
   ]
  },
  {
   "cell_type": "markdown",
   "id": "b6ccb552-8f1b-43c4-b98b-8caa22de6a36",
   "metadata": {},
   "source": [
    "- Ways to handle\n",
    "    - Droping outliers\n",
    "    - Imputation - **Median**\n",
    "    - Quantile based flooring and capping\n",
    "    - Transformations - Log transformation can help to reduce the effect of outliers"
   ]
  },
  {
   "cell_type": "markdown",
   "id": "c30f8ac1-eea2-4382-beb6-b67f96f990ab",
   "metadata": {},
   "source": [
    "* if the data is categorical then we have to use \"Mode\"\n",
    "* if data is numerical, we have to use \"mean\", and \"median\"."
   ]
  },
  {
   "cell_type": "markdown",
   "id": "90f6519a-94aa-4432-b81d-95d74d52996f",
   "metadata": {},
   "source": [
    "### Detect"
   ]
  },
  {
   "cell_type": "code",
   "execution_count": 103,
   "id": "a4c233f3-10ff-4fb6-bfad-86f558b9c99a",
   "metadata": {},
   "outputs": [
    {
     "data": {
      "text/plain": [
       "<Axes: xlabel='price'>"
      ]
     },
     "execution_count": 103,
     "metadata": {},
     "output_type": "execute_result"
    },
    {
     "data": {
      "image/png": "[encoded data removed]",
      "text/plain": [
       "<Figure size 640x480 with 1 Axes>"
      ]
     },
     "metadata": {},
     "output_type": "display_data"
    }
   ],
   "source": [
    "sns.boxplot( data = data, x = \"price\")"
   ]
  },
  {
   "cell_type": "code",
   "execution_count": 105,
   "id": "4092e6e0-009d-4109-8f12-d7c5e517628d",
   "metadata": {},
   "outputs": [
    {
     "data": {
      "text/plain": [
       "<Axes: xlabel='price'>"
      ]
     },
     "execution_count": 105,
     "metadata": {},
     "output_type": "execute_result"
    },
    {
     "data": {
      "image/png": "[encoded data removed]",
      "text/plain": [
       "<Figure size 640x480 with 1 Axes>"
      ]
     },
     "metadata": {},
     "output_type": "display_data"
    }
   ],
   "source": [
    "sns.violinplot(data = data, x='price')"
   ]
  },
  {
   "cell_type": "code",
   "execution_count": 110,
   "id": "1ad70289-a813-40fd-9458-ceeaeb530ffc",
   "metadata": {},
   "outputs": [
    {
     "data": {
      "text/plain": [
       "(7788.0, 16503.0)"
      ]
     },
     "execution_count": 110,
     "metadata": {},
     "output_type": "execute_result"
    }
   ],
   "source": [
    "# using IQR\n",
    "q1 = data['price'].quantile(0.25) # 25% \n",
    "q3 = data['price'].quantile(0.75) #75%\n",
    "q1, q3"
   ]
  },
  {
   "cell_type": "code",
   "execution_count": 112,
   "id": "c75bb2a5-69d7-49f6-bed7-a98f1be6a6bb",
   "metadata": {},
   "outputs": [
    {
     "data": {
      "text/plain": [
       "8715.0"
      ]
     },
     "execution_count": 112,
     "metadata": {},
     "output_type": "execute_result"
    }
   ],
   "source": [
    "#### Determine the distance between the quartiles(IQR)\n",
    "IQR = q3 - q1 #(16503.0 - 7788.0)\n",
    "IQR"
   ]
  },
  {
   "cell_type": "code",
   "execution_count": 108,
   "id": "0fbb321f-b964-49ba-81f2-545db82ef583",
   "metadata": {},
   "outputs": [],
   "source": [
    "lower = q1 - (1.5*IQR)\n",
    "upper = q3 + (1.5*IQR)"
   ]
  },
  {
   "cell_type": "code",
   "execution_count": 109,
   "id": "525e949d-b890-4622-bae9-eb7c65bcbf98",
   "metadata": {},
   "outputs": [
    {
     "data": {
      "text/plain": [
       "(-5284.5, 29575.5)"
      ]
     },
     "execution_count": 109,
     "metadata": {},
     "output_type": "execute_result"
    }
   ],
   "source": [
    "lower, upper"
   ]
  },
  {
   "cell_type": "markdown",
   "id": "8f60c80c-6272-4418-ab2a-ff12c73a6e95",
   "metadata": {},
   "source": [
    "# Fixing Syntax Error"
   ]
  },
  {
   "cell_type": "code",
   "execution_count": null,
   "id": "1a9b3c9f-da74-42be-a116-51f1c8d1f2b0",
   "metadata": {},
   "outputs": [],
   "source": []
  }
 ],
 "metadata": {
  "kernelspec": {
   "display_name": "Python 3 (ipykernel)",
   "language": "python",
   "name": "python3"
  },
  "language_info": {
   "codemirror_mode": {
    "name": "ipython",
    "version": 3
   },
   "file_extension": ".py",
   "mimetype": "text/x-python",
   "name": "python",
   "nbconvert_exporter": "python",
   "pygments_lexer": "ipython3",
   "version": "3.12.0"
  }
 },
 "nbformat": 4,
 "nbformat_minor": 5
}
