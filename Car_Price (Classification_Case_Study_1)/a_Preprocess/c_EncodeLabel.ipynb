{
 "cells": [
  {
   "cell_type": "code",
   "execution_count": null,
   "metadata": {},
   "outputs": [],
   "source": [
    "# Lebel Encoder, onehot Encoder and ordinal Encoder"
   ]
  },
  {
   "cell_type": "code",
   "execution_count": 1,
   "metadata": {},
   "outputs": [
    {
     "ename": "AttributeError",
     "evalue": "'str' object has no attribute 'values'",
     "output_type": "error",
     "traceback": [
      "\u001b[1;31m---------------------------------------------------------------------------\u001b[0m",
      "\u001b[1;31mAttributeError\u001b[0m                            Traceback (most recent call last)",
      "\u001b[1;32mc:\\Users\\User\\Desktop\\backup\\C\\MLgrit\\Exploratory Data Analysis - 1 (Revisions)\\classification\\a_Preprocess\\c_EncodeLabel.ipynb Cell 1\u001b[0m line \u001b[0;36m4\n\u001b[0;32m      <a href='vscode-notebook-cell:/c%3A/Users/User/Desktop/backup/C/MLgrit/Exploratory%20Data%20Analysis%20-%201%20%28Revisions%29/classification/a_Preprocess/c_EncodeLabel.ipynb#W0sZmlsZQ%3D%3D?line=1'>2</a>\u001b[0m \u001b[39mfrom\u001b[39;00m \u001b[39msklearn\u001b[39;00m\u001b[39m.\u001b[39;00m\u001b[39mpreprocessing\u001b[39;00m \u001b[39mimport\u001b[39;00m LabelEncoder\n\u001b[0;32m      <a href='vscode-notebook-cell:/c%3A/Users/User/Desktop/backup/C/MLgrit/Exploratory%20Data%20Analysis%20-%201%20%28Revisions%29/classification/a_Preprocess/c_EncodeLabel.ipynb#W0sZmlsZQ%3D%3D?line=2'>3</a>\u001b[0m encoder \u001b[39m=\u001b[39m LabelEncoder()\n\u001b[1;32m----> <a href='vscode-notebook-cell:/c%3A/Users/User/Desktop/backup/C/MLgrit/Exploratory%20Data%20Analysis%20-%201%20%28Revisions%29/classification/a_Preprocess/c_EncodeLabel.ipynb#W0sZmlsZQ%3D%3D?line=3'>4</a>\u001b[0m encodedY \u001b[39m=\u001b[39m encoder\u001b[39m.\u001b[39mfit_transform(\u001b[39m\"\u001b[39;49m\u001b[39mCarName\u001b[39;49m\u001b[39m\"\u001b[39;49m\u001b[39m.\u001b[39;49mvalues\u001b[39m.\u001b[39mravel())\n\u001b[0;32m      <a href='vscode-notebook-cell:/c%3A/Users/User/Desktop/backup/C/MLgrit/Exploratory%20Data%20Analysis%20-%201%20%28Revisions%29/classification/a_Preprocess/c_EncodeLabel.ipynb#W0sZmlsZQ%3D%3D?line=4'>5</a>\u001b[0m encodedY\n",
      "\u001b[1;31mAttributeError\u001b[0m: 'str' object has no attribute 'values'"
     ]
    }
   ],
   "source": [
    "# Label Encoding\n",
    "from sklearn.preprocessing import LabelEncoder\n",
    "encoder = LabelEncoder()\n",
    "encodedC = encoder.fit_transform(CarName.values.ravel())\n",
    "encodedC"
   ]
  }
 ],
 "metadata": {
  "kernelspec": {
   "display_name": "Python 3 (ipykernel)",
   "language": "python",
   "name": "python3"
  },
  "language_info": {
   "codemirror_mode": {
    "name": "ipython",
    "version": 3
   },
   "file_extension": ".py",
   "mimetype": "text/x-python",
   "name": "python",
   "nbconvert_exporter": "python",
   "pygments_lexer": "ipython3",
   "version": "3.12.0"
  }
 },
 "nbformat": 4,
 "nbformat_minor": 4
}
