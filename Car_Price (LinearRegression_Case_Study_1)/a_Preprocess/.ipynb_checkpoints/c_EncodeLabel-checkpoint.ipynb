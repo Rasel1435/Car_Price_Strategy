{
 "cells": [
  {
   "cell_type": "markdown",
   "metadata": {},
   "source": [
    "# Lebel Encoder"
   ]
  },
  {
   "cell_type": "markdown",
   "metadata": {},
   "source": [
    "**Label Encoder:**\n",
    "Label Encoder is used to convert categorical labels into numerical values. Each unique category is assigned a unique integer. This encoding is suitable for ordinal data, where the categories have a meaningful order.\n",
    "\n",
    "**Example:**\n",
    "Suppose you have a dataset with a \"Size\" feature containing categories like \"Small,\" \"Medium,\" and \"Large.\" Using Label Encoding, you can map these categories to integers as follows:\n",
    "\n",
    "- Small: 0\n",
    "- Medium: 1\n",
    "- Large: 2\n",
    "\n",
    "So, the \"Size\" feature is transformed into numerical values, allowing machine learning algorithms to work with it.\n",
    "\n",
    "- Label Encoding is suitable for **ordinal** data"
   ]
  },
  {
   "cell_type": "code",
   "execution_count": 1,
   "metadata": {},
   "outputs": [],
   "source": [
    "# from sklearn.preprocessing import LabelEncoder\n",
    "\n",
    "# # Sample data with a categorical feature\n",
    "# data = ['cat', 'dog', 'fish', 'dog', 'cat']\n",
    "\n",
    "# # Initialize the LabelEncoder\n",
    "# label_encoder = LabelEncoder()\n",
    "\n",
    "# # Fit and transform the data\n",
    "# encoded_data = label_encoder.fit_transform(data)\n",
    "\n",
    "# # Display the original data and the encoded data\n",
    "# print(\"Original Data:\", data)\n",
    "# print(\"Encoded Data:\", encoded_data)"
   ]
  },
  {
   "cell_type": "markdown",
   "metadata": {},
   "source": [
    "# Ordinal Encoder"
   ]
  },
  {
   "cell_type": "markdown",
   "metadata": {},
   "source": [
    "**Ordinal Encoder:**\n",
    "Ordinal Encoder is used for ordinal data, just like Label Encoder, but it allows you to specify the order explicitly. This is useful when you have categorical data with an inherent order, and you want to control the mapping.\n",
    "\n",
    "**Example:**\n",
    "Consider an \"Education Level\" feature with categories \"High School,\" \"Bachelor's,\" \"Master's,\" and \"Ph.D.\" Using Ordinal Encoding, you can define the order and map these categories as follows:\n",
    "\n",
    "- High School: 0\n",
    "- Bachelor's: 1\n",
    "- Master's: 2\n",
    "- Ph.D.: 3\n",
    "\n",
    "In this case, you are explicitly specifying the order of the education levels.\n",
    "\n",
    "- Ordinal Encoding is suitable for **ordinal** data"
   ]
  },
  {
   "cell_type": "code",
   "execution_count": null,
   "metadata": {},
   "outputs": [],
   "source": [
    "# from sklearn.preprocessing import OrdinalEncoder\n",
    "\n",
    "# # Sample data with an ordered categorical feature\n",
    "# data = [['Cold'], ['Warm'], ['Hot'], ['Cold'], ['Hot']]\n",
    "\n",
    "# # Define the order of the categories\n",
    "# category_order = [['Cold', 'Warm', 'Hot']]\n",
    "\n",
    "# # Initialize the OrdinalEncoder with the category order\n",
    "# ordinal_encoder = OrdinalEncoder(categories=category_order)\n",
    "\n",
    "# # Fit and transform the data\n",
    "# encoded_data = ordinal_encoder.fit_transform(data)\n",
    "\n",
    "# # Display the original data and the encoded data\n",
    "# print(\"Original Data:\", data)\n",
    "# print(\"Encoded Data:\", encoded_data)"
   ]
  },
  {
   "cell_type": "markdown",
   "metadata": {},
   "source": [
    " # One-Hot Encoder"
   ]
  },
  {
   "cell_type": "markdown",
   "metadata": {},
   "source": [
    "**One-Hot Encoder:**\n",
    "One-hot encoding is used when there is no inherent order in the categories, and you want to create binary columns for each category. Each category is represented as a binary vector where only one element is \"1,\" and the rest are \"0.\"\n",
    "\n",
    "**Example:**\n",
    "Let's consider a \"Color\" feature with categories \"Red,\" \"Blue,\" and \"Green.\" Using One-Hot Encoding, you create three binary columns:\n",
    "\n",
    "- Red: [1, 0, 0]\n",
    "- Blue: [0, 1, 0]\n",
    "- Green: [0, 0, 1]\n",
    "\n",
    "Each row in your dataset is represented by a combination of these binary vectors, indicating the color of that data point.\n",
    "- One-hot encoding is typically used for **nominal** data without any inherent order."
   ]
  },
  {
   "cell_type": "code",
   "execution_count": null,
   "metadata": {},
   "outputs": [],
   "source": [
    "# from sklearn.preprocessing import OneHotEncoder\n",
    "# import numpy as np\n",
    "\n",
    "# # Sample data with a categorical feature\n",
    "# data = [['Red'], ['Blue'], ['Green'], ['Green'], ['Red']]\n",
    "\n",
    "# # Initialize the OneHotEncoder\n",
    "# one_hot_encoder = OneHotEncoder()\n",
    "\n",
    "# # Fit and transform the data\n",
    "# encoded_data = one_hot_encoder.fit_transform(data)\n",
    "\n",
    "# # Convert the sparse matrix to a dense array for better visualization\n",
    "# encoded_data_array = encoded_data.toarray()\n",
    "\n",
    "# # Display the original data and the encoded data\n",
    "# print(\"Original Data:\", data)\n",
    "# print(\"Encoded Data:\")\n",
    "# print(encoded_data_array)"
   ]
  },
  {
   "cell_type": "code",
   "execution_count": null,
   "metadata": {},
   "outputs": [],
   "source": []
  },
  {
   "cell_type": "code",
   "execution_count": null,
   "metadata": {},
   "outputs": [],
   "source": []
  }
 ],
 "metadata": {
  "kernelspec": {
   "display_name": "Python 3 (ipykernel)",
   "language": "python",
   "name": "python3"
  },
  "language_info": {
   "codemirror_mode": {
    "name": "ipython",
    "version": 3
   },
   "file_extension": ".py",
   "mimetype": "text/x-python",
   "name": "python",
   "nbconvert_exporter": "python",
   "pygments_lexer": "ipython3",
   "version": "3.12.0"
  }
 },
 "nbformat": 4,
 "nbformat_minor": 4
}
